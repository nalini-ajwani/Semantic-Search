{
  "nbformat": 4,
  "nbformat_minor": 0,
  "metadata": {
    "colab": {
      "provenance": []
    },
    "kernelspec": {
      "name": "python3",
      "display_name": "Python 3"
    },
    "language_info": {
      "name": "python"
    }
  },
  "cells": [
    {
      "cell_type": "markdown",
      "source": [],
      "metadata": {
        "id": "LSfTvkvzWDxd"
      }
    },
    {
      "cell_type": "markdown",
      "source": [
        "# Imports"
      ],
      "metadata": {
        "id": "D19hmGMAR78j"
      }
    },
    {
      "cell_type": "code",
      "source": [
        "!pip install cohere weaviate-client"
      ],
      "metadata": {
        "colab": {
          "base_uri": "https://localhost:8080/"
        },
        "id": "j63JHf4QSEv1",
        "outputId": "7b551cc4-15bc-49fc-90ed-f93fd38711eb"
      },
      "execution_count": null,
      "outputs": [
        {
          "output_type": "stream",
          "name": "stdout",
          "text": [
            "Requirement already satisfied: cohere in /usr/local/lib/python3.10/dist-packages (4.27)\n",
            "Requirement already satisfied: weaviate-client in /usr/local/lib/python3.10/dist-packages (3.24.1)\n",
            "Requirement already satisfied: aiohttp<4.0,>=3.0 in /usr/local/lib/python3.10/dist-packages (from cohere) (3.8.5)\n",
            "Requirement already satisfied: backoff<3.0,>=2.0 in /usr/local/lib/python3.10/dist-packages (from cohere) (2.2.1)\n",
            "Requirement already satisfied: fastavro==1.8.2 in /usr/local/lib/python3.10/dist-packages (from cohere) (1.8.2)\n",
            "Requirement already satisfied: importlib_metadata<7.0,>=6.0 in /usr/local/lib/python3.10/dist-packages (from cohere) (6.8.0)\n",
            "Requirement already satisfied: requests<3.0.0,>=2.25.0 in /usr/local/lib/python3.10/dist-packages (from cohere) (2.31.0)\n",
            "Requirement already satisfied: urllib3<3,>=1.26 in /usr/local/lib/python3.10/dist-packages (from cohere) (2.0.4)\n",
            "Requirement already satisfied: validators<1.0.0,>=0.21.2 in /usr/local/lib/python3.10/dist-packages (from weaviate-client) (0.22.0)\n",
            "Requirement already satisfied: authlib<2.0.0,>=1.2.1 in /usr/local/lib/python3.10/dist-packages (from weaviate-client) (1.2.1)\n",
            "Requirement already satisfied: attrs>=17.3.0 in /usr/local/lib/python3.10/dist-packages (from aiohttp<4.0,>=3.0->cohere) (23.1.0)\n",
            "Requirement already satisfied: charset-normalizer<4.0,>=2.0 in /usr/local/lib/python3.10/dist-packages (from aiohttp<4.0,>=3.0->cohere) (3.2.0)\n",
            "Requirement already satisfied: multidict<7.0,>=4.5 in /usr/local/lib/python3.10/dist-packages (from aiohttp<4.0,>=3.0->cohere) (6.0.4)\n",
            "Requirement already satisfied: async-timeout<5.0,>=4.0.0a3 in /usr/local/lib/python3.10/dist-packages (from aiohttp<4.0,>=3.0->cohere) (4.0.3)\n",
            "Requirement already satisfied: yarl<2.0,>=1.0 in /usr/local/lib/python3.10/dist-packages (from aiohttp<4.0,>=3.0->cohere) (1.9.2)\n",
            "Requirement already satisfied: frozenlist>=1.1.1 in /usr/local/lib/python3.10/dist-packages (from aiohttp<4.0,>=3.0->cohere) (1.4.0)\n",
            "Requirement already satisfied: aiosignal>=1.1.2 in /usr/local/lib/python3.10/dist-packages (from aiohttp<4.0,>=3.0->cohere) (1.3.1)\n",
            "Requirement already satisfied: cryptography>=3.2 in /usr/local/lib/python3.10/dist-packages (from authlib<2.0.0,>=1.2.1->weaviate-client) (41.0.3)\n",
            "Requirement already satisfied: zipp>=0.5 in /usr/local/lib/python3.10/dist-packages (from importlib_metadata<7.0,>=6.0->cohere) (3.16.2)\n",
            "Requirement already satisfied: idna<4,>=2.5 in /usr/local/lib/python3.10/dist-packages (from requests<3.0.0,>=2.25.0->cohere) (3.4)\n",
            "Requirement already satisfied: certifi>=2017.4.17 in /usr/local/lib/python3.10/dist-packages (from requests<3.0.0,>=2.25.0->cohere) (2023.7.22)\n",
            "Requirement already satisfied: cffi>=1.12 in /usr/local/lib/python3.10/dist-packages (from cryptography>=3.2->authlib<2.0.0,>=1.2.1->weaviate-client) (1.15.1)\n",
            "Requirement already satisfied: pycparser in /usr/local/lib/python3.10/dist-packages (from cffi>=1.12->cryptography>=3.2->authlib<2.0.0,>=1.2.1->weaviate-client) (2.21)\n"
          ]
        }
      ]
    },
    {
      "cell_type": "code",
      "execution_count": null,
      "metadata": {
        "colab": {
          "base_uri": "https://localhost:8080/"
        },
        "id": "sHhqvAtoRTL5",
        "outputId": "eed40674-4a38-489e-f11a-628384ad3143"
      },
      "outputs": [
        {
          "output_type": "execute_result",
          "data": {
            "text/plain": [
              "True"
            ]
          },
          "metadata": {},
          "execution_count": 8
        }
      ],
      "source": [
        "import weaviate\n",
        "import cohere\n",
        "\n",
        "cohere_api_key = ''\n",
        "\n",
        "co = cohere.Client(cohere_api_key)\n",
        "\n",
        "auth_config = weaviate.auth.AuthApiKey(api_key=\"76320a90-53d8-42bc-b41d-678647c6672e\")\n",
        "client = weaviate.Client(\n",
        "    url=\"https://cohere-demo.weaviate.network/\",\n",
        "    auth_client_secret=auth_config,\n",
        "    additional_headers={\n",
        "        \"X-Cohere-Api-Key\": cohere_api_key,\n",
        "    }\n",
        ")\n",
        "\n",
        "client.is_ready() #check if True"
      ]
    },
    {
      "cell_type": "markdown",
      "source": [
        "# Keyword Search\n",
        "\n"
      ],
      "metadata": {
        "id": "YtKPrTy7SLrG"
      }
    },
    {
      "cell_type": "code",
      "source": [
        "# This function performs keyword search\n",
        "def keyword_search(query, results_lang='en', num_results=10):\n",
        "  properties = [\"text\", \"title\", \"url\", \"views\", \"lang\", \"_additional {distance}\"]\n",
        "\n",
        "  where_filter = {\n",
        "  \"path\": [\"lang\"],\n",
        "  \"operator\": \"Equal\",\n",
        "  \"valueString\": results_lang\n",
        "  }\n",
        "\n",
        "  response = (\n",
        "      client.query.get(\"Articles\", properties)\n",
        "      .with_bm25(\n",
        "          query=query\n",
        "      )\n",
        "      .with_where(where_filter)\n",
        "      .with_limit(num_results)\n",
        "      .do()\n",
        "  )\n",
        "  result = response['data']['Get']['Articles']\n",
        "  return result"
      ],
      "metadata": {
        "id": "njgAkvn5R7Vx"
      },
      "execution_count": null,
      "outputs": []
    },
    {
      "cell_type": "code",
      "source": [
        "# This function prints the results nicely\n",
        "def print_result(result):\n",
        "    \"\"\" Print results with colorful formatting \"\"\"\n",
        "    for item in result:\n",
        "      print(f\"\\033[95m{item['title']} ({item['views']}) \\033[0m\")\n",
        "      print(f\"\\033[4m{item['url']}\\033[0m\")\n",
        "      print(item['text'])\n",
        "      print()"
      ],
      "metadata": {
        "id": "DmYe2CYJSNdF"
      },
      "execution_count": null,
      "outputs": []
    },
    {
      "cell_type": "code",
      "source": [
        "simple_query = \"Who discovered penicillin?\"\n",
        "keyword_search_results_simple = keyword_search(simple_query)\n",
        "print_result(keyword_search_results_simple)"
      ],
      "metadata": {
        "colab": {
          "base_uri": "https://localhost:8080/"
        },
        "id": "0qoZVPO5SWrw",
        "outputId": "beea4cb3-3bd4-4716-8331-528bc76897bb"
      },
      "execution_count": null,
      "outputs": [
        {
          "output_type": "stream",
          "name": "stdout",
          "text": [
            "\u001b[95mPenicillin (2000) \u001b[0m\n",
            "\u001b[4mhttps://en.wikipedia.org/wiki?curid=23312\u001b[0m\n",
            "When Alexander Fleming discovered the crude penicillin in 1928, one important observation he made was that many bacteria were not affected by penicillin. This phenomenon was realised by Ernst Chain and Edward Abraham while trying to identify the exact of penicillin. In 1940, they discovered that unsusceptible bacteria like \"Escherichia coli\" produced specific enzymes that can break down penicillin molecules, thus making them resistant to the antibiotic. They named the enzyme penicillinase. Penicillinase is now classified as member of enzymes called β-lactamases. These β-lactamases are naturally present in many other bacteria, and many bacteria produce them upon constant exposure to antibiotics. In most bacteria, resistance can be through three different mechanisms: reduced permeability in bacteria, reduced binding affinity of the penicillin-binding proteins (PBPs) or destruction of the antibiotic through the expression of β-lactamase. Using any of these, bacteria commonly develop resistance to different antibiotics, a phenomenon called multi-drug resistance.\n",
            "\n",
            "\u001b[95mPenicillin (2000) \u001b[0m\n",
            "\u001b[4mhttps://en.wikipedia.org/wiki?curid=23312\u001b[0m\n",
            "Enzymatic destruction by β-lactamases is the most important mechanism of penicillin resistance, and is described as \"the greatest threat to the usage [of penicillins]\". It was the first discovered mechanism of penicillin resistance. During the experiments when purification and biological activity tests of penicillin were performed in 1940, it was found that \"E. coli\" was unsusceptible. The reason was discovered as production of an enzyme penicillinase (hence, the first β-lactamase known) in \"E. coli\" that easily degraded penicillin. There are over 2,000 types of β-lactamases each of which has unique amino acid sequence, and thus, enzymatic activity. All of them are able to hydrolyse β-lactam rings but their exact target sites are different. They are secreted on the bacterial surface in large quantities in Gram-positive bacteria but less so in Gram-negative species. Therefore, in a mixed bacterial infection, the Gram-positive bacteria can protect the otherwise penicillin-susceptible Gram-negative cells.\n",
            "\n",
            "\u001b[95mAntibiotic (2000) \u001b[0m\n",
            "\u001b[4mhttps://en.wikipedia.org/wiki?curid=1805\u001b[0m\n",
            "Ernst Chain, Howard Florey and Edward Abraham succeeded in purifying the first penicillin, penicillin G, in 1942, but it did not become widely available outside the Allied military before 1945. Later, Norman Heatley developed the back extraction technique for efficiently purifying penicillin in bulk. The chemical structure of penicillin was first proposed by Abraham in 1942 and then later confirmed by Dorothy Crowfoot Hodgkin in 1945. Purified penicillin displayed potent antibacterial activity against a wide range of bacteria and had low toxicity in humans. Furthermore, its activity was not inhibited by biological constituents such as pus, unlike the synthetic sulfonamides. (see below) The development of penicillin led to renewed interest in the search for antibiotic compounds with similar efficacy and safety. For their successful development of penicillin, which Fleming had accidentally discovered but could not develop himself, as a therapeutic drug, Chain and Florey shared the 1945 Nobel Prize in Medicine with Fleming.\n",
            "\n",
            "\u001b[95mAlexander Fleming (2000) \u001b[0m\n",
            "\u001b[4mhttps://en.wikipedia.org/wiki?curid=1937\u001b[0m\n",
            "Fleming also discovered very early that bacteria developed antibiotic resistance whenever too little penicillin was used or when it was used for too short a period. Almroth Wright had predicted antibiotic resistance even before it was noticed during experiments. Fleming cautioned about the use of penicillin in his many speeches around the world. On 26 June 1945, he made the following cautionary statements: \"the microbes are educated to resist penicillin and a host of penicillin-fast organisms is bred out ... In such cases the thoughtless person playing with penicillin is morally responsible for the death of the man who finally succumbs to infection with the penicillin-resistant organism. I hope this evil can be averted.\" He cautioned not to use penicillin unless there was a properly diagnosed reason for it to be used, and that if it were used, never to use too little, or for too short a period, since these are the circumstances under which bacterial resistance to antibiotics develops.\n",
            "\n",
            "\u001b[95mPenicillin (2000) \u001b[0m\n",
            "\u001b[4mhttps://en.wikipedia.org/wiki?curid=23312\u001b[0m\n",
            "The term \"penicillin\" is defined as the natural product of \"Penicillium\" mould with antimicrobial activity. It was coined by Alexander Fleming on 7 March 1929 when he discovered the antibacterial property of \"Penicillium rubens\". Fleming explained in his 1929 paper in the \"British Journal of Experimental Pathology\" that \"to avoid the repetition of the rather cumbersome phrase 'Mould broth filtrate', the name 'penicillin' will be used.\" The name thus refers to the scientific name of the mould, as described by Fleming in his Nobel lecture in 1945:I have been frequently asked why I invented the name \"Penicillin\". I simply followed perfectly orthodox lines and coined a word which explained that the substance penicillin was derived from a plant of the genus Penicillium just as many years ago the word \"Digitalin\" was invented for a substance derived from the plant \"Digitalis\".In modern usage, the term penicillin is used more broadly to refer to any β-lactam antimicrobial that contains a thiazolidine ring fused to the β-lactam core and may or may not be a natural product. Like most natural products, penicillin is present in \"Penicillium\" moulds as a mixture of active constituents (gentamicin is another example of a natural product that is an ill-defined mixture of active components). The principal active components of \"Penicillium\" are listed in the following table:\"\"\n",
            "\n",
            "\u001b[95mPenicillin (2000) \u001b[0m\n",
            "\u001b[4mhttps://en.wikipedia.org/wiki?curid=23312\u001b[0m\n",
            "Penicillin was discovered in 1928 by Scottish scientist Alexander Fleming as a crude extract of \"P. rubens\". Fleming's student Cecil George Paine was the first to successfully use penicillin to treat eye infection (Ophthalmia neonatorum) in 1930. The purified compound (penicillin F) was isolated in 1940 by a research team led by Howard Florey and Ernst Boris Chain at the University of Oxford. Fleming first used the purified penicillin to treat streptococcal meningitis in 1942. The 1945 Nobel Prize in Physiology or Medicine was shared by Chain, Fleming, and Florey.\n",
            "\n",
            "\u001b[95mStaphylococcus aureus (2000) \u001b[0m\n",
            "\u001b[4mhttps://en.wikipedia.org/wiki?curid=118212\u001b[0m\n",
            "In 1880, Alexander Ogston, a Scottish surgeon, discovered that \"Staphylococcus\" can cause wound infections after noticing groups of bacteria in pus from a surgical abscess during a procedure he was performing. He named it \"Staphylococcus\" after its clustered appearance evident under a microscope. Then, in 1884, German scientist Friedrich Julius Rosenbach identified \"Staphylococcus aureus\", discriminating and separating it from \"Staphylococcus albus\", a related bacterium. In the early 1930s, doctors began to use a more streamlined test to detect the presence of an \"S. aureus\" infection by the means of coagulase testing, which enables detection of an enzyme produced by the bacterium. Prior to the 1940s, \"S. aureus\" infections were fatal in the majority of patients. However, doctors discovered that the use of penicillin could cure \"S. aureus\" infections. Unfortunately, by the end of the 1940s, penicillin resistance became widespread amongst this bacterium population and outbreaks of the resistant strain began to occur.\n",
            "\n",
            "\u001b[95mDoxycycline (2000) \u001b[0m\n",
            "\u001b[4mhttps://en.wikipedia.org/wiki?curid=660870\u001b[0m\n",
            "After penicillin revolutionized the treatment of bacterial infections in WWII, many chemical companies moved into the field of discovering antibiotics by bioprospecting. American Cyanamid was one of these, and in the late 1940s chemists there discovered chlortetracycline, the first member of the tetracycline class of antibiotics. Shortly thereafter, scientists at Pfizer discovered terramycin and it was brought to market. Both compounds, like penicillin, were natural products and it was commonly believed that nature had perfected them, and further chemical changes could only degrade their effectiveness. Scientists at Pfizer led by Lloyd Conover modified these compounds, which led to the invention of tetracycline itself, the first semi-synthetic antibiotic. Charlie Stephens' group at Pfizer worked on further analogs and created one with greatly improved stability and pharmacological efficacy: doxycycline. It was clinically developed in the early 1960s and approved by the FDA in 1967.\n",
            "\n",
            "\u001b[95mRoaring Twenties (2000) \u001b[0m\n",
            "\u001b[4mhttps://en.wikipedia.org/wiki?curid=369155\u001b[0m\n",
            "For decades biologists had been at work on the medicine that became penicillin. In 1928, Scottish biologist Alexander Fleming discovered a substance that killed a number of disease-causing bacteria. In 1929, he named the new substance penicillin. His publications were largely ignored at first, but it became a significant antibiotic in the 1930s. In 1930, Cecil George Paine, a pathologist at Sheffield Royal Infirmary, used penicillin to treat sycosis barbae, eruptions in beard follicles, but was unsuccessful. Moving to ophthalmia neonatorum, a gonococcal infection in infants, he achieved the first recorded cure with penicillin, on November 25, 1930. He then cured four additional patients (one adult and three infants) of eye infections, but failed to cure a fifth.\n",
            "\n",
            "\u001b[95mAlexander Fleming (2000) \u001b[0m\n",
            "\u001b[4mhttps://en.wikipedia.org/wiki?curid=1937\u001b[0m\n",
            "The popular story of Winston Churchill's father paying for Fleming's education after Fleming's father saved young Winston from death is false. According to the biography, \"Penicillin Man: Alexander Fleming and the Antibiotic Revolution\" by Kevin Brown, Alexander Fleming, in a letter to his friend and colleague Andre Gratia, described this as \"A wondrous fable.\" Nor did he save Winston Churchill himself during World War II. Churchill was saved by Lord Moran, using sulphonamides, since he had no experience with penicillin, when Churchill fell ill in Carthage in Tunisia in 1943. \"The Daily Telegraph\" and \"The Morning Post\" on 21 December 1943 wrote that he had been saved by penicillin. He was saved by the new sulphonamide drug Sulphapyridine, known at the time under the research code M&B 693, discovered and produced by May & Baker Ltd, Dagenham, Essex – a subsidiary of the French group Rhône-Poulenc. In a subsequent radio broadcast, Churchill referred to the new drug as \"This admirable M&B\". It is highly probable that the correct information about the sulphonamide did not reach the newspapers because, since the original sulphonamide antibacterial, Prontosil, had been a discovery by the German laboratory Bayer, and as Britain was at war with Germany at the time, it was thought better to raise British morale by associating Churchill's cure with a British discovery, penicillin.\n",
            "\n"
          ]
        }
      ]
    },
    {
      "cell_type": "code",
      "source": [
        "hard_query = \"Who was the first person to win two nobel prizes?\"\n",
        "keyword_search_results_hard = keyword_search(hard_query)\n",
        "print_result(keyword_search_results_hard)"
      ],
      "metadata": {
        "colab": {
          "base_uri": "https://localhost:8080/"
        },
        "id": "R29ttbW6Se_7",
        "outputId": "5a8ef067-2a29-44cf-9dee-5d6f9b39f289"
      },
      "execution_count": null,
      "outputs": [
        {
          "output_type": "stream",
          "name": "stdout",
          "text": [
            "\u001b[95mNeutrino (2000) \u001b[0m\n",
            "\u001b[4mhttps://en.wikipedia.org/wiki?curid=21485\u001b[0m\n",
            "In the 1960s, the now-famous Homestake experiment made the first measurement of the flux of electron neutrinos arriving from the core of the Sun and found a value that was between one third and one half the number predicted by the Standard Solar Model. This discrepancy, which became known as the solar neutrino problem, remained unresolved for some thirty years, while possible problems with both the experiment and the solar model were investigated, but none could be found. Eventually, it was realized that both were actually correct and that the discrepancy between them was due to neutrinos being more complex than was previously assumed. It was postulated that the three neutrinos had nonzero and slightly different masses, and could therefore oscillate into undetectable flavors on their flight to the Earth. This hypothesis was investigated by a new series of experiments, thereby opening a new major field of research that still continues. Eventual confirmation of the phenomenon of neutrino oscillation led to two Nobel prizes, to R. Davis, who conceived and led the Homestake experiment, and to A.B. McDonald, who led the SNO experiment, which could detect all of the neutrino flavors and found no deficit.\n",
            "\n",
            "\u001b[95mWestern culture (2000) \u001b[0m\n",
            "\u001b[4mhttps://en.wikipedia.org/wiki?curid=21208262\u001b[0m\n",
            "By the will of the Swedish inventor Alfred Nobel the Nobel Prizes were established in 1895. The prizes in Chemistry, Literature, Peace, Physics, and Physiology or Medicine were first awarded in 1901. The percentage of ethnically European Nobel prize winners during the first and second halves of the 20th century were respectively 98 and 94 percent.\n",
            "\n",
            "\u001b[95mReality television (2000) \u001b[0m\n",
            "\u001b[4mhttps://en.wikipedia.org/wiki?curid=38539\u001b[0m\n",
            "Game shows like \"Weakest Link\", \"Who Wants to Be a Millionaire?\", \"American Gladiators\" and \"Deal or No Deal\", which were popular in the 2000s, also lie in a gray area: like traditional game shows (e.g., \"The Price Is Right\", \"Jeopardy!\"), the action takes place in an enclosed television studio over a short period of time; however, they have higher production values, more dramatic background music, and higher stakes than traditional shows (done either through putting contestants into physical danger or offering large cash prizes). In addition, there is more interaction between contestants and hosts, and in some cases, they feature reality-style contestant competition or elimination as well. These factors, as well as these shows' rise in global popularity at the same time as the arrival of the reality craze, have led to such shows often being grouped under both the reality television and game show umbrellas. There have been various hybrid reality-competition shows, like the worldwide-syndicated \"Star Academy\", which combines the \"Big Brother\" and \"Idol\" formats, \"The Biggest Loser\", which combines competition with the self-improvement format, and \"American Inventor\", which uses the \"Idol\" format for products instead of people. Some reality shows that aired mostly during the early 2000s, such as \"Popstars\", \"Making the Band\" and \"Project Greenlight\", devoted the first part of the season to selecting a winner, and the second part to showing that person or group of people working on a project.\n",
            "\n",
            "\u001b[95mPeter Mullan (2000) \u001b[0m\n",
            "\u001b[4mhttps://en.wikipedia.org/wiki?curid=3242135\u001b[0m\n",
            "Mullan is an art house movie director. He won a Golden Lion at 59th Venice International Film Festival for \"The Magdalene Sisters\" (2002), listed by many critics among the best films of 2003 and nominated for BAFTA Award for Best British Film and European Film Award for best film, and a Golden Shell at San Sebastián International Film Festival for \"Neds\" (2010). He is the only person to win top prizes both for acting (Cannes Best Actor award for \"My Name Is Joe\") and for the best film (Golden Lion for \"The Magdalene Sisters\") at major European film festivals.\n",
            "\n",
            "\u001b[95mIndiana Pacers (2000) \u001b[0m\n",
            "\u001b[4mhttps://en.wikipedia.org/wiki?curid=72875\u001b[0m\n",
            "From 1989 to 1993, the Pacers would play at or near .500 and qualify for the playoffs; in 1989–90, the Pacers parlayed a fast start into the team's third playoff appearance under coach Bob Hill. But the Pacers were swept by the Detroit Pistons, who would go on to win their second consecutive NBA Championship. Reggie Miller became the first Pacer to play in the All-Star Game since 1976 on the strength of his 24.6 points-per-game average. Despite four straight first-round exits, this period was highlighted by a first-round series with the Boston Celtics in 1991 that went to Game 5. The next season, the Pacers returned to the playoffs in 1992 and met the Celtics for the second year in a row. But this time, the Celtics left no doubt who was the better team, as they swept the Pacers in three straight games. Chuck Person and point guard Micheal Williams were traded to the Minnesota Timberwolves in the off-season, and the Pacers got Pooh Richardson and Sam Mitchell in return. For the 1992–93 season, Detlef Schrempf moved from sixth man to the starter at small forward and was elected to his first All-Star game. Meanwhile, Miller became the Pacers' all-time NBA era leading scorer during this season (4th overall). The Pacers returned to the playoffs with a 41–41 record, but lost to the New York Knicks in the first round, three games to one.\n",
            "\n",
            "\u001b[95mWilliam Regal (2000) \u001b[0m\n",
            "\u001b[4mhttps://en.wikipedia.org/wiki?curid=690254\u001b[0m\n",
            "On 30 June, Regal was sent to SmackDown! as part of an eleven-person trade during the draft. His first match on \"SmackDown!\" was on 7 July against Matt Morgan in what was to be Morgan's final WWE match. It was interrupted before Regal was even able to enter the ring by Mexicools. His first full match as part of the roster was a loss to Chris Benoit in a catch wrestling match on 16 July episode of \"Velocity\". On 4 August, Regal was scheduled to go one on one with Scotty 2 Hotty, but the Mexicools came in and attacked both men. Two weeks later, they teamed up on \"SmackDown!\" against Psicosis and Super Crazy with Juventud in their corner. Halfway through the match, Regal betrayed Scotty by refusing to tag him and walked out of the ring with a smirk on his face, turning heel as a result and allowing the Mexicools to pick up the win. Two days later, Regal cut a promo telling the crowd that he had returned to his former self, referring to himself as a \"scoundrel\" and a \"rogue\". The promo ended when Scotty ran to the ring and attacked Regal. The following week, a match between the two was cut short when the debuting Paul Burchill interfered to aid his countryman. Regal went on to take Burchill under his wing and tag with him on the hunt for the WWE Tag Team Championship, but the team's biggest exposure was a loss in a handicap match against Bobby Lashley at Armageddon.\n",
            "\n",
            "\u001b[95mNobel Prize (2000) \u001b[0m\n",
            "\u001b[4mhttps://en.wikipedia.org/wiki?curid=21201\u001b[0m\n",
            "The Nobel Foundation was founded as a private organization on 29 June 1900. Its function is to manage the finances and administration of the Nobel Prizes. In accordance with Nobel's will, the primary task of the foundation is to manage the fortune Nobel left. Robert and Ludvig Nobel were involved in the oil business in Azerbaijan, and according to Swedish historian E. Bargengren, who accessed the Nobel family archive, it was this \"decision to allow withdrawal of Alfred's money from Baku that became the decisive factor that enabled the Nobel Prizes to be established\". Another important task of the Nobel Foundation is to market the prizes internationally and to oversee informal administration related to the prizes. The foundation is not involved in the process of selecting the Nobel laureates. In many ways, the Nobel Foundation is similar to an investment company, in that it invests Nobel's money to create a solid funding base for the prizes and the administrative activities. The Nobel Foundation is exempt from all taxes in Sweden (since 1946) and from investment taxes in the United States (since 1953). Since the 1980s, the foundation's investments have become more profitable and as of 31 December 2007, the assets controlled by the Nobel Foundation amounted to 3.628 billion Swedish \"kronor\" (c. US$560 million).\n",
            "\n",
            "\u001b[95mNobel Prize (2000) \u001b[0m\n",
            "\u001b[4mhttps://en.wikipedia.org/wiki?curid=21201\u001b[0m\n",
            "In terms of the most prestigious awards in STEM fields, only a small proportion have been awarded to women. Out of 210 laureates in Physics, 181 in Chemistry and 216 in Medicine between 1901 and 2018, there were only three female laureates in physics, five in chemistry and 12 in medicine. Factors proposed to contribute to the discrepancy between this and the roughly equal human sex ratio include biased nominations, fewer women than men being active in the relevant fields, Nobel Prizes typically being awarded decades after the research was done (reflecting a time when gender bias in the relevant fields was greater), a greater delay in awarding Nobel Prizes for women's achievements making longevity a more important factor for women (one cannot be nominated for the Nobel Prize posthumously), and a tendency to omit women from jointly awarded Nobel Prizes. Despite these factors, Marie Curie is to date the only person awarded Nobel Prizes in two different sciences (Physics in 1903, Chemistry in 1911); she is one of only three people who have received two Nobel Prizes in sciences (see Multiple laureates below). Malala Yousafzai is the youngest person ever to be awarded the Nobel Peace Prize. When she received it in 2014, she was only 17 years old.\n",
            "\n",
            "\u001b[95mNobel Prize (2000) \u001b[0m\n",
            "\u001b[4mhttps://en.wikipedia.org/wiki?curid=21201\u001b[0m\n",
            "The Nobel Prizes ( ; ; ) are five separate prizes that, according to Alfred Nobel's will of 1895, are awarded to \"those who, during the preceding year, have conferred the greatest benefit to humankind.\" Alfred Nobel was a Swedish chemist, engineer, and industrialist most famously known for the invention of dynamite. He died in 1896. In his will, he bequeathed all of his \"remaining realisable assets\" to be used to establish five prizes which became known as \"Nobel Prizes.\" Nobel Prizes were first awarded in 1901.\n",
            "\n",
            "\u001b[95mNoble gas (2000) \u001b[0m\n",
            "\u001b[4mhttps://en.wikipedia.org/wiki?curid=21140\u001b[0m\n",
            "Ramsay continued his search for these gases using the method of fractional distillation to separate liquid air into several components. In 1898, he discovered the elements krypton, neon, and xenon, and named them after the Greek words (, \"hidden\"), (, \"new\"), and (, \"stranger\"), respectively. Radon was first identified in 1898 by Friedrich Ernst Dorn, and was named \"radium emanation\", but was not considered a noble gas until 1904 when its characteristics were found to be similar to those of other noble gases. Rayleigh and Ramsay received the 1904 Nobel Prizes in Physics and in Chemistry, respectively, for their discovery of the noble gases; in the words of J. E. Cederblom, then president of the Royal Swedish Academy of Sciences, \"the discovery of an entirely new group of elements, of which no single representative had been known with any certainty, is something utterly unique in the history of chemistry, being intrinsically an advance in science of peculiar significance\".\n",
            "\n"
          ]
        }
      ]
    },
    {
      "cell_type": "markdown",
      "source": [
        "# Dense Retrieval\n",
        "\n",
        "This section accompanies the [Dense Retrieval](https://cohere-enterprise.readme.io/docs/dense-retrieval) chapter of LLM University.\n",
        "\n",
        "Now we will use dense retrieval to search the answers for the two queries. Now you will notice that the results are good for both queries."
      ],
      "metadata": {
        "id": "Hm-a_fTZSktj"
      }
    },
    {
      "cell_type": "code",
      "source": [
        "# This function performs dense retrieval\n",
        "def dense_retrieval(query, results_lang='en', num_results=10):\n",
        "    \"\"\"\n",
        "    Query the vectors database and return the top results.\n",
        "\n",
        "\n",
        "    Parameters\n",
        "    ----------\n",
        "        query: str\n",
        "            The search query\n",
        "\n",
        "        results_lang: str (optional)\n",
        "            Retrieve results only in the specified language.\n",
        "            The demo dataset has those languages:\n",
        "            en, de, fr, es, it, ja, ar, zh, ko, hi\n",
        "\n",
        "    \"\"\"\n",
        "\n",
        "    nearText = {\"concepts\": [query]}\n",
        "    properties = [\"text\", \"title\", \"url\", \"views\", \"lang\", \"_additional {distance}\"]\n",
        "    # To filter by language\n",
        "    where_filter = {\n",
        "    \"path\": [\"lang\"],\n",
        "    \"operator\": \"Equal\",\n",
        "    \"valueString\": results_lang\n",
        "    }\n",
        "    response = (\n",
        "        client.query\n",
        "        .get(\"Articles\", properties)\n",
        "        .with_near_text(nearText)\n",
        "        .with_where(where_filter)\n",
        "        .with_limit(num_results)\n",
        "        .do()\n",
        "    )\n",
        "\n",
        "    result = response['data']['Get']['Articles']\n",
        "\n",
        "    return result"
      ],
      "metadata": {
        "id": "VfgBUiFTShcR"
      },
      "execution_count": null,
      "outputs": []
    },
    {
      "cell_type": "code",
      "source": [
        "simple_query = \"Who discovered penicillin?\"\n",
        "\n",
        "dense_retrieval_results_simple = dense_retrieval(simple_query)\n",
        "print_result(dense_retrieval_results_simple)"
      ],
      "metadata": {
        "colab": {
          "base_uri": "https://localhost:8080/"
        },
        "id": "TYs0NKxnTKM1",
        "outputId": "cea390ff-ffb0-43e3-bed1-cb1a182b248d"
      },
      "execution_count": null,
      "outputs": [
        {
          "output_type": "stream",
          "name": "stdout",
          "text": [
            "\u001b[95mAlexander Fleming (2000) \u001b[0m\n",
            "\u001b[4mhttps://en.wikipedia.org/wiki?curid=1937\u001b[0m\n",
            "Sir Alexander Fleming (6 August 1881 – 11 March 1955) was a Scottish physician and microbiologist, best known for discovering the world's first broadly effective antibiotic substance, which he named penicillin. His discovery in 1928 of what was later named benzylpenicillin (or penicillin G) from the mould \"Penicillium rubens\" is described as the \"single greatest victory ever achieved over disease.\" For this discovery, he shared the Nobel Prize in Physiology or Medicine in 1945 with Howard Florey and Ernst Boris Chain.\n",
            "\n",
            "\u001b[95mPenicillin (2000) \u001b[0m\n",
            "\u001b[4mhttps://en.wikipedia.org/wiki?curid=23312\u001b[0m\n",
            "Penicillin was discovered in 1928 by Scottish scientist Alexander Fleming as a crude extract of \"P. rubens\". Fleming's student Cecil George Paine was the first to successfully use penicillin to treat eye infection (Ophthalmia neonatorum) in 1930. The purified compound (penicillin F) was isolated in 1940 by a research team led by Howard Florey and Ernst Boris Chain at the University of Oxford. Fleming first used the purified penicillin to treat streptococcal meningitis in 1942. The 1945 Nobel Prize in Physiology or Medicine was shared by Chain, Fleming, and Florey.\n",
            "\n",
            "\u001b[95mPenicillin (2000) \u001b[0m\n",
            "\u001b[4mhttps://en.wikipedia.org/wiki?curid=23312\u001b[0m\n",
            "The term \"penicillin\" is defined as the natural product of \"Penicillium\" mould with antimicrobial activity. It was coined by Alexander Fleming on 7 March 1929 when he discovered the antibacterial property of \"Penicillium rubens\". Fleming explained in his 1929 paper in the \"British Journal of Experimental Pathology\" that \"to avoid the repetition of the rather cumbersome phrase 'Mould broth filtrate', the name 'penicillin' will be used.\" The name thus refers to the scientific name of the mould, as described by Fleming in his Nobel lecture in 1945:I have been frequently asked why I invented the name \"Penicillin\". I simply followed perfectly orthodox lines and coined a word which explained that the substance penicillin was derived from a plant of the genus Penicillium just as many years ago the word \"Digitalin\" was invented for a substance derived from the plant \"Digitalis\".In modern usage, the term penicillin is used more broadly to refer to any β-lactam antimicrobial that contains a thiazolidine ring fused to the β-lactam core and may or may not be a natural product. Like most natural products, penicillin is present in \"Penicillium\" moulds as a mixture of active constituents (gentamicin is another example of a natural product that is an ill-defined mixture of active components). The principal active components of \"Penicillium\" are listed in the following table:\"\"\n",
            "\n",
            "\u001b[95mAlexander Fleming (2000) \u001b[0m\n",
            "\u001b[4mhttps://en.wikipedia.org/wiki?curid=1937\u001b[0m\n",
            "The laboratory in which Fleming discovered and tested penicillin is preserved as the Alexander Fleming Laboratory Museum in St. Mary's Hospital, Paddington. The source of the fungal contaminant was established in 1966 as coming from La Touche's room, which was directly below Fleming's.\n",
            "\n",
            "\u001b[95mRoaring Twenties (2000) \u001b[0m\n",
            "\u001b[4mhttps://en.wikipedia.org/wiki?curid=369155\u001b[0m\n",
            "For decades biologists had been at work on the medicine that became penicillin. In 1928, Scottish biologist Alexander Fleming discovered a substance that killed a number of disease-causing bacteria. In 1929, he named the new substance penicillin. His publications were largely ignored at first, but it became a significant antibiotic in the 1930s. In 1930, Cecil George Paine, a pathologist at Sheffield Royal Infirmary, used penicillin to treat sycosis barbae, eruptions in beard follicles, but was unsuccessful. Moving to ophthalmia neonatorum, a gonococcal infection in infants, he achieved the first recorded cure with penicillin, on November 25, 1930. He then cured four additional patients (one adult and three infants) of eye infections, but failed to cure a fifth.\n",
            "\n",
            "\u001b[95mAlexander Fleming (2000) \u001b[0m\n",
            "\u001b[4mhttps://en.wikipedia.org/wiki?curid=1937\u001b[0m\n",
            "Fleming's discovery of penicillin changed the world of modern medicine by introducing the age of useful antibiotics; penicillin has saved, and is still saving, millions of people around the world.\n",
            "\n",
            "\u001b[95mBiotechnology (2000) \u001b[0m\n",
            "\u001b[4mhttps://en.wikipedia.org/wiki?curid=4502\u001b[0m\n",
            "Biotechnology has also led to the development of antibiotics. In 1928, Alexander Fleming discovered the mold \"Penicillium\". His work led to the purification of the antibiotic compound formed by the mold by Howard Florey, Ernst Boris Chain and Norman Heatley – to form what we today know as penicillin. In 1940, penicillin became available for medicinal use to treat bacterial infections in humans.\n",
            "\n",
            "\u001b[95mPenicillin (2000) \u001b[0m\n",
            "\u001b[4mhttps://en.wikipedia.org/wiki?curid=23312\u001b[0m\n",
            "6-APA was discovered by researchers at the Beecham Research Laboratories (later the Beecham Group) in Surrey in 1957 (published in 1959). Attaching different groups to the 6-APA 'nucleus' of penicillin allowed the creation of new forms of penicillins which are more versatile and better in activity.\n",
            "\n",
            "\u001b[95mPenicillin (2000) \u001b[0m\n",
            "\u001b[4mhttps://en.wikipedia.org/wiki?curid=23312\u001b[0m\n",
            "Fleming did not convince anyone that his discovery was important. This was largely because penicillin was so difficult to isolate that its development as a drug seemed impossible. It is speculated that had Fleming been more successful at making other scientists interested in his work, penicillin would possibly have been developed years earlier.\n",
            "\n",
            "\u001b[95mPenicillin (2000) \u001b[0m\n",
            "\u001b[4mhttps://en.wikipedia.org/wiki?curid=23312\u001b[0m\n",
            "Starting in the late 19th century there had been reports of the antibacterial properties of \"Penicillium\" mould, but scientists were unable to discern what process was causing the effect. Scottish physician Alexander Fleming at St. Mary's Hospital in London (now part of Imperial College) was the first to show that \"Penicillium rubens\" had antibacterial properties. On 3 September 1928 he observed that fungal contamination of a bacterial culture (\"Staphylococcus aureus\") appeared to kill the bacteria. He confirmed this observation with a new experiment on 28 September 1928. He published his experiment in 1929, and called the antibacterial substance (the fungal extract) penicillin.\n",
            "\n"
          ]
        }
      ]
    },
    {
      "cell_type": "code",
      "source": [
        "hard_query = \"Who was the first person to win two Nobel prizes?\"\n",
        "dense_retrieval_results_hard = dense_retrieval(hard_query)\n",
        "print_result(dense_retrieval_results_hard)"
      ],
      "metadata": {
        "colab": {
          "base_uri": "https://localhost:8080/"
        },
        "id": "QxRhQdX0Uq_y",
        "outputId": "38a71da5-6a00-4ed7-ecc7-3dad6619d987"
      },
      "execution_count": null,
      "outputs": [
        {
          "output_type": "stream",
          "name": "stdout",
          "text": [
            "\u001b[95mNobel Prize (2000) \u001b[0m\n",
            "\u001b[4mhttps://en.wikipedia.org/wiki?curid=21201\u001b[0m\n",
            "Five people have received two Nobel Prizes. Marie Curie received the Physics Prize in 1903 for her work on radioactivity and the Chemistry Prize in 1911 for the isolation of pure radium, making her the only person to be awarded a Nobel Prize in two different sciences. Linus Pauling was awarded the 1954 Chemistry Prize for his research into the chemical bond and its application to the structure of complex substances. Pauling was also awarded the Peace Prize in 1962 for his activism against nuclear weapons, making him the only laureate of two unshared prizes. John Bardeen received the Physics Prize twice: in 1956 for the invention of the transistor and in 1972 for the theory of superconductivity. Frederick Sanger received the prize twice in Chemistry: in 1958 for determining the structure of the insulin molecule and in 1980 for inventing a method of determining base sequences in DNA. Karl Barry Sharpless was awarded the 2001 Chemistry Prize for his research into chirally catalysed oxidation reactions, and the 2022 Chemistry Prize for click chemistry.\n",
            "\n",
            "\u001b[95mNobel Prize (2000) \u001b[0m\n",
            "\u001b[4mhttps://en.wikipedia.org/wiki?curid=21201\u001b[0m\n",
            "Although posthumous nominations are not presently permitted, individuals who died in the months between their nomination and the decision of the prize committee were originally eligible to receive the prize. This has occurred twice: the 1931 Literature Prize awarded to Erik Axel Karlfeldt, and the 1961 Peace Prize awarded to UN Secretary General Dag Hammarskjöld. Since 1974, laureates must be thought alive at the time of the October announcement. There has been one laureate, William Vickrey, who in 1996 died after the prize (in Economics) was announced but before it could be presented. On 3 October 2011, the laureates for the Nobel Prize in Physiology or Medicine were announced; however, the committee was not aware that one of the laureates, Ralph M. Steinman, had died three days earlier. The committee was debating about Steinman's prize, since the rule is that the prize is not awarded posthumously. The committee later decided that as the decision to award Steinman the prize \"was made in good faith\", it would remain unchanged.\n",
            "\n",
            "\u001b[95mUnited Nations (3000) \u001b[0m\n",
            "\u001b[4mhttps://en.wikipedia.org/wiki?curid=31769\u001b[0m\n",
            "A number of agencies and individuals associated with the UN have won the Nobel Peace Prize in recognition of their work. Two secretaries-general, Dag Hammarskjöld and Kofi Annan, were each awarded the prize (in 1961 and 2001, respectively), as were Ralph Bunche (1950), a UN negotiator, René Cassin (1968), a contributor to the Universal Declaration of Human Rights, and the US Secretary of State Cordell Hull (1945), the latter for his role in the organization's founding. Lester B. Pearson, the Canadian Secretary of State for External Affairs, was awarded the prize in 1957 for his role in organizing the UN's first peacekeeping force to resolve the Suez Crisis. UNICEF won the prize in 1965, the International Labour Organization in 1969, the UN Peacekeeping Forces in 1988, the International Atomic Energy Agency (which reports to the UN) in 2005, and the UN-supported Organisation for the Prohibition of Chemical Weapons in 2013. The UN High Commissioner for Refugees was awarded in 1954 and 1981, becoming one of only two recipients to win the prize twice. The UN as a whole was awarded the prize in 2001, sharing it with Annan. In 2007, IPCC received the prize \"for their efforts to build up and disseminate greater knowledge about man-made climate change, and to lay the foundations for the measures that are needed to counteract such change.\"\n",
            "\n",
            "\u001b[95mNobel Prize in Literature (2000) \u001b[0m\n",
            "\u001b[4mhttps://en.wikipedia.org/wiki?curid=23385442\u001b[0m\n",
            "The Nobel Prize in Literature can be shared between two individuals. However, the Academy has been reluctant to award shared prizes, mainly because divisions are liable to be interpreted as a result of a compromise. The shared prizes awarded to Frederic Mistral and José Echegaray in 1904 and to Karl Gjellerup and Henrik Pontoppidan in 1917 were in fact both a result of compromises. The Academy has also hesitated to divide the prize between two authors as a shared prize runs the risk of being regarded as only half a laurel. Shared prizes are exceptional, and more recently the Academy has awarded a shared prize on only two occasions, to Shmuel Yosef Agnon and Nelly Sachs in 1966, and to Eyvind Johnson and Harry Martinson in 1974.\n",
            "\n",
            "\u001b[95mMarie Curie (3000) \u001b[0m\n",
            "\u001b[4mhttps://en.wikipedia.org/wiki?curid=20408\u001b[0m\n",
            "Marie Curie was the first woman to win a Nobel Prize, the first person to win two Nobel Prizes, the only woman to win in two fields, and the only person to win in multiple sciences. Awards that she received include:\n",
            "\n",
            "\u001b[95mWestern culture (2000) \u001b[0m\n",
            "\u001b[4mhttps://en.wikipedia.org/wiki?curid=21208262\u001b[0m\n",
            "By the will of the Swedish inventor Alfred Nobel the Nobel Prizes were established in 1895. The prizes in Chemistry, Literature, Peace, Physics, and Physiology or Medicine were first awarded in 1901. The percentage of ethnically European Nobel prize winners during the first and second halves of the 20th century were respectively 98 and 94 percent.\n",
            "\n",
            "\u001b[95mLiterature (2000) \u001b[0m\n",
            "\u001b[4mhttps://en.wikipedia.org/wiki?curid=18963870\u001b[0m\n",
            "Nobel Prizes in Literature have been awarded between 1901 and 2020 to 117 individuals: 101 men and 16 women. Selma Lagerlöf (1858 – 1940) was the first woman to win the Nobel Prize in Literature, which she was awarded in 1909. Additionally, she was the first woman to be granted a membership in The Swedish Academy in 1914.\n",
            "\n",
            "\u001b[95mMarie Curie (3000) \u001b[0m\n",
            "\u001b[4mhttps://en.wikipedia.org/wiki?curid=20408\u001b[0m\n",
            "She was the first person to win or share two Nobel Prizes, and remains alone with Linus Pauling as Nobel laureates in two fields each. A delegation of celebrated Polish men of learning, headed by novelist Henryk Sienkiewicz, encouraged her to return to Poland and continue her research in her native country. Curie's second Nobel Prize enabled her to persuade the French government to support the Radium Institute, built in 1914, where research was conducted in chemistry, physics, and medicine. A month after accepting her 1911 Nobel Prize, she was hospitalised with depression and a kidney ailment. For most of 1912, she avoided public life but did spend time in England with her friend and fellow physicist, Hertha Ayrton. She returned to her laboratory only in December, after a break of about 14 months.\n",
            "\n",
            "\u001b[95mMarie Curie (3000) \u001b[0m\n",
            "\u001b[4mhttps://en.wikipedia.org/wiki?curid=20408\u001b[0m\n",
            "Marie Salomea Skłodowska–Curie ( , , ; born Maria Salomea Skłodowska, ; 7 November 1867 – 4 July 1934) was a Polish and naturalized-French physicist and chemist who conducted pioneering research on radioactivity. She was the first woman to win a Nobel Prize, the first person and the only woman to win a Nobel Prize twice, and the only person to win a Nobel Prize in two scientific fields. Her husband, Pierre Curie, was a co-winner on her first Nobel Prize, making them the first ever married couple to win the Nobel Prize and launching the Curie family legacy of five Nobel Prizes. She was, in 1906, the first woman to become a professor at the University of Paris.\n",
            "\n",
            "\u001b[95mAlfred Nobel (2000) \u001b[0m\n",
            "\u001b[4mhttps://en.wikipedia.org/wiki?curid=851\u001b[0m\n",
            "Nobel was elected a member of the Royal Swedish Academy of Sciences in 1884, the same institution that would later select laureates for two of the Nobel prizes, and he received an honorary doctorate from Uppsala University in 1893.\n",
            "\n"
          ]
        }
      ]
    },
    {
      "cell_type": "markdown",
      "source": [
        "### Searching in other languages\n",
        "Changing the `results_lang` parameter to any of the following: en, de, fr, es, it, ja, ar, zh, ko, hi (the available languages in the demo) allows you to get results in any language you want. For example, here are the results to the hard query in Arabic."
      ],
      "metadata": {
        "id": "kbeNQtzAMagI"
      }
    },
    {
      "cell_type": "code",
      "source": [
        "arabic_results = dense_retrieval(hard_query, results_lang='ar')\n",
        "print_result(spanish_results)"
      ],
      "metadata": {
        "id": "mkogocjILr6G",
        "outputId": "29a2dbcf-dc5c-49b3-e1b2-b22c033d5a8d",
        "colab": {
          "base_uri": "https://localhost:8080/"
        }
      },
      "execution_count": null,
      "outputs": [
        {
          "output_type": "stream",
          "name": "stdout",
          "text": [
            "\u001b[95mجائزة نوبل (1000) \u001b[0m\n",
            "\u001b[4mhttps://ar.wikipedia.org/wiki?curid=1979\u001b[0m\n",
            "وقد حصل أربعة أشخاص على اثنتين من جوائز نوبل. حيث حصلت ماري كوري على جائزة نوبل في الفيزياء في عام 1903 بالمشاركة مع زوجها بيير كوري لعملهما على النشاط الإشعاعي، وحصلت وحدها كذلك على جائزة نوبل في الكيمياء عام 1911 لعزل الراديوم النقي، مما يجعلها المرأة الوحيدة التي تفوز بجائزة نوبل مرتين، والشخص الوحيد الذي فاز بجائزة نوبل في مجالين مختلفين في مجالات العلوم. وفاز لينوس باولنغ بجائزة الكيمياء لعام 1954 لأبحاثه في الروابط الكيميائية وتطبيقها على هيكل من المواد المعقدة، كما فاز باولنغ على جائزة نوبل للسلام في عام 1962 لنشاطه ضد الأسلحة النووية، مما يجعل منه الفائز الوحيد في جائزتين دون مشاركة الجائزة مع أحد. وحصل جون باردين على جائزة نوبل في الفيزياء مرتين: الأولى في عام 1956 لاختراع الترانزستور، والثانية في عام 1972 لنظرية التوصيل. وتلقى فردريك سانغر الجائزة مرتين في الكيمياء: الأولى في عام 1958 لتحديد بنية جزيء الأنسولين، والثانية في عام 1980 لاختراعه طريقة لتحديد تسلسل قاعدة في الحمض النووي.\n",
            "\n",
            "\u001b[95mقائمة الحاصلين على جائزة نوبل (800) \u001b[0m\n",
            "\u001b[4mhttps://ar.wikipedia.org/wiki?curid=1064904\u001b[0m\n",
            "وقد تسلم ستة فائزون أكثر من جائزة واحدة، فقد تسلمت اللجنة الدولية للصليب الأحمر جائزة نوبل في السلام لثلاث مرات، وهي بذلك تعد أكثر من حازت جوائز نوبل. ومن بين الفائزين البالغ عددهم 892، كانت 48 منهم من النساء؛ وكانت أول امرأة تفوز بجائزة نوبل هي ماري كوري، والتي فازت بجائزة نوبل في الفيزياء في عام 1903. كما كانت أيضًا أول شخص (سواء من الرجال أو النساء) يفوز بجائزة نوبل مرتين، وكانت المرة الثانية في الكيمياء في سنة 1911.\n",
            "\n",
            "\u001b[95mامرأة (1000) \u001b[0m\n",
            "\u001b[4mhttps://ar.wikipedia.org/wiki?curid=21220\u001b[0m\n",
            "تعتبر ماري كوري أول امرأة تحصل على جائزة نوبل في الفيزياء سنة 1903، وحصلت بعد ذلك مرة أخرى على جائزة نوبل في الكيمياء سنة 1911 وكانت الجائزتان لقاء عملها على في مجال النشاط الإشعاعي. ماري كوري هي أول شخص يفوز بجائزتي نوبل في مجالين علميين مختلفين (الفيزياء والكيمياء). 40 امرأة حصلت على جائزة نوبل بين 1901 و2010، منهنّ 16 حصلن على جائزة نوبل في الفيزياء والكيمياء والطب.\n",
            "\n",
            "\u001b[95mالمرأة في العلوم (100) \u001b[0m\n",
            "\u001b[4mhttps://ar.wikipedia.org/wiki?curid=3051265\u001b[0m\n",
            "كانت ماري كوري أول امرأة تحصل على جائزة نوبل في الفيزياء سنة 1903، وحصلت بعد ذلك مرة أخرى على جائزة نوبل في الكيمياء سنة 1911 وكانت الجائزتان لقاء عملها على في مجال النشاط الإشعاعي. وقد حصلت 40 امرأة على جائزة نوبل في الفترة الممتدة بين عامي 1901 و 2010 في الفيزياء والكيمياء والطب.\n",
            "\n",
            "\u001b[95mماري كوري (1000) \u001b[0m\n",
            "\u001b[4mhttps://ar.wikipedia.org/wiki?curid=16622\u001b[0m\n",
            "كانت ماري كوري أول امرأة تفوز بجائزة نوبل، وأول من يحصل عليها مرتين، والمرأة الوحيدة التي حصلت عليها في مجالين، والشخص الوحيد الذي يحصل على جائزة نوبل في مجالين علميين. شملت الجوائز التي حصلت عليها:\n",
            "\n",
            "\u001b[95mقائمة الحاصلين على جائزة نوبل في الكيمياء (300) \u001b[0m\n",
            "\u001b[4mhttps://ar.wikipedia.org/wiki?curid=2354241\u001b[0m\n",
            "حصلت الكيمياء العضوية ما لا يقل عن 25 جائزة، أكثر من أي مجال كيميائي آخر. أيضا لم يسمح لحكومتي الحائزين على جائزة نوبل في الكيمياء، الألمان ريشارد كون (1938) وأدولف بوتنانت (1939)، من قبل حكومتهم بقبول الجائزة. إذ حصلوا على الميدالية والدبلوم، لكن تم حرمانهم من المبلغ المالي. فردريك سانغر هو واحد من اثنين من الحائزين على جائزة نوبل مرتين في نفس الموضوع، في عام 1958 و1980. جون باردين هو الآخر وحصل على جائزة نوبل في الفيزياء في عامي 1956 و1972. وحصل اثنان آخران على جائزة نوبل مرتين، واحد في الكيمياء وواحد في موضوع آخر: ماري كوري (الفيزياء في عام 1903، والكيمياء في عام 1911) ولينوس باولينغ (الكيمياء في عام 1954، والسلام في عام 1962). اعتبارا من عام 2018، تم منح الجائزة إلى 180 شخصًا، من بينهم سبع نساء: ماري كوري (1911)، وإيرين جوليو-كوري (1935)، ودوروثي هودجكن (1964)، وعادا يونات (2009)، وفرانسيس أرنولد (2018)، وإيمانويل شاربنتييه وجنيفر داودنا (2020). ولم تمنح جائزة نوبل في الكيمياء ثمان سنوات.\n",
            "\n",
            "\u001b[95mجائزة نوبل (1000) \u001b[0m\n",
            "\u001b[4mhttps://ar.wikipedia.org/wiki?curid=1979\u001b[0m\n",
            "حتى عام 2015، مُنِحَت الجائزة إلى 822 رجلًا و48 امرأة و26 منظمة. فازت 16 امرأة بجائزة نوبل للسلام و14 في مجال الأدب و12 في مجال الطب أو علم وظائف الأعضاء و4 في مجال الكيمياء واثنتان في مجال الفيزياء وفازت واحدة وهي إلينور أوستروم بجائزة نوبل التذكارية في العلوم الاقتصادية. وكانت ماري كوري هي أول امرأة تفوز بجائزة نوبل، وحصلت عليها في مجال الفيزياء عام 1903 مشاركة مع زوجها بيار كوري وهنري بيكريل. وتعتبر ماري أيضًا المرأة الوحيدة التي تفوز بالجائزة مرتين، حيث فازت أيضًا بجائزة نوبل للكيمياء عام 1911. وبفوز إيرين جوليو-كوري -ابنة ماري كوري- بجائزة نوبل في الكيمياء عام 1935، جعلهما ذلك أول ثنائي من أمٍ وابنتها يفوز بالجائزة. أما عن أكثر عامٍ شهد فوز النساء بجوائز نوبل فكان عام 2009، حينها توجت خمسة نساء بالجوائز. وآخر النساء فوزًا بالجوائز هم دونا ستريكلاند وفرانسيس أرنولد ونادية مراد (2018).\n",
            "\n",
            "\u001b[95mمحمد يونس (300) \u001b[0m\n",
            "\u001b[4mhttps://ar.wikipedia.org/wiki?curid=52332\u001b[0m\n",
            "وكان محمد يونس أول بنغالي يحصل على جائزة نوبل. وبعد تلقي نبأ الجائزة الهامة، أعلن محمد يونس أنه سيستخدم جزءا من نصيبه من الجائزة (1,400,000 دولار) لإنشاء شركة لتقديم تكلفة منخفضة للمواد الغذائية للفقراء، في حين أن بقية الجائزة ستذهب لإقامة مستشفى العيون للفقراء في بنغلاديش.\n",
            "\n",
            "\u001b[95mجائزة نوبل (1000) \u001b[0m\n",
            "\u001b[4mhttps://ar.wikipedia.org/wiki?curid=1979\u001b[0m\n",
            "أُقيم أوّل احتفال لتقديم جائزة نوبل في الآداب، الفيزياء، الكيمياء، الطب في الأكاديمية الملكية الموسيقية في مدينة ستوكهولم السويدية سنة 1901. وابتداءً من سنة 1902، قام الملك بنفسه بتسليم جائزة نوبل للأشخاص الحائزين عليها. تردّد الملك «أوسكار» الثاني، ملك السويد في بداية الأمر في تسليم جائزة وطنية لغير السويديين، ولكنه تقبّل الوضع فيما بعد لإدراكه لكمية الدعاية العالمية التي ستجنيها السويد.\n",
            "\n",
            "\u001b[95mقائمة النساء الحاصلات على جائزة نوبل (300) \u001b[0m\n",
            "\u001b[4mhttps://ar.wikipedia.org/wiki?curid=943040\u001b[0m\n",
            "حتى عام 2015، مُنِحَت الجائزة إلى 822 رجلًا و48 امرأة و26 منظمة. فازت 16 امرأة بجائزة نوبل للسلام و14 في مجال الأدب و12 في مجال الطب أو علم وظائف الأعضاء و4 في مجال الكيمياء واثنتان في مجال الفيزياء وفازت واحدة وهي إلينور أوستروم بجائزة نوبل التذكارية في العلوم الاقتصادية. وكانت ماري كوري هي أول امرأة تفوز بجائزة نوبل، وحصلت عليها في مجال الفيزياء عام 1903 مشاركة مع زوجها بيار كوري وهنري بيكريل. وتعتبر ماري أيضًا المرأة الوحيدة التي تفوز بالجائزة مرتين، حيث فازت أيضًا بجائزة نوبل للكيمياء عام 1911. وبفوز إيرين جوليو-كوري -ابنة ماري كوري- بجائزة نوبل في الكيمياء عام 1935، جعلهما ذلك أول ثنائي من أمٍ وابنتها يفوز بالجائزة. أما عن أكثر عامٍ شهد فوز النساء بجوائز نوبل فكان عام 2009، حينها توجت خمسة نساء بالجوائز.\n",
            "\n"
          ]
        }
      ]
    },
    {
      "cell_type": "markdown",
      "source": [
        "The query can also be in any other language. Here are the French results to a query in Spanish."
      ],
      "metadata": {
        "id": "AN5M-6SbNDBH"
      }
    },
    {
      "cell_type": "code",
      "source": [
        "spanish_query = \"Quien descubrio la penicilina?\"\n",
        "french_results = dense_retrieval(spanish_query, results_lang='fr')\n",
        "print_result(french_results)"
      ],
      "metadata": {
        "id": "6GAxMo3aNBXd",
        "outputId": "1f276d1a-d82a-4d0d-f49c-ff9d07273509",
        "colab": {
          "base_uri": "https://localhost:8080/"
        }
      },
      "execution_count": null,
      "outputs": [
        {
          "output_type": "stream",
          "name": "stdout",
          "text": [
            "\u001b[95mPénicilline (1000) \u001b[0m\n",
            "\u001b[4mhttps://fr.wikipedia.org/wiki?curid=92634\u001b[0m\n",
            "La pénicilline (pénicilline G) fut découverte le , concentrée et surtout nommée par le Britannique Alexander Fleming. Elle a été introduite pour des thérapies à partir de 1941.\n",
            "\n",
            "\u001b[95mPénicilline (1000) \u001b[0m\n",
            "\u001b[4mhttps://fr.wikipedia.org/wiki?curid=92634\u001b[0m\n",
            "La pénicilline a été redécouverte accidentellement le par Alexander Fleming. Le chercheur écossais travailla ensuite plusieurs années à essayer de purifier cet antibiotique.\n",
            "\n",
            "\u001b[95mAlexander Fleming (800) \u001b[0m\n",
            "\u001b[4mhttps://fr.wikipedia.org/wiki?curid=27093\u001b[0m\n",
            "Huit ans plus tard, il découvrit la pénicilline par accident, lors de l'observation d'une moisissure qui tua les bactéries d'une de ses expériences, et surtout il comprit et fit comprendre son intérêt médical.\n",
            "\n",
            "\u001b[95mAlexander Fleming (800) \u001b[0m\n",
            "\u001b[4mhttps://fr.wikipedia.org/wiki?curid=27093\u001b[0m\n",
            "Sur sa découverte, Fleming publia en 1929 dans le \"\" un article qui attira peu l'attention. Il continua ses recherches, mais constata qu'il était difficile de cultiver le penicillium et, même quand on y arrivait, il était encore plus difficile d'en extraire la pénicilline. Son impression était que, du fait de ce problème de production en grande quantité et parce que son action lui semblait lente, la pénicilline n'aurait guère d'importance dans le traitement des infections. Fleming s'était également persuadé que la pénicilline ne subsisterait pas assez longtemps dans le corps humain pour tuer des bactéries. Un grand nombre de tests cliniques se révélèrent peu concluants, probablement du fait qu'elle y était utilisée comme antiseptique.\n",
            "\n",
            "\u001b[95mAlexander Fleming (800) \u001b[0m\n",
            "\u001b[4mhttps://fr.wikipedia.org/wiki?curid=27093\u001b[0m\n",
            "Ses découvertes les plus connues sont celle de l'antibiotique appelé pénicilline qu'il a isolée à partir du champignon \"Penicillium notatum\" en 1928, découverte pour laquelle il a partagé le prix Nobel de physiologie ou médecine avec Howard Walter Florey et Ernst Boris Chain en 1945, et celle de l'enzyme lysozyme en 1922.\n",
            "\n",
            "\u001b[95mAlexander Fleming (800) \u001b[0m\n",
            "\u001b[4mhttps://fr.wikipedia.org/wiki?curid=27093\u001b[0m\n",
            "Sa découverte de la pénicilline avait révolutionné le monde des médicaments en ouvrant l'ère des antibiotiques ; la découverte de la pénicilline a sauvé et sauve toujours des millions de personnes.\n",
            "\n",
            "\u001b[95mAlexander Fleming (800) \u001b[0m\n",
            "\u001b[4mhttps://fr.wikipedia.org/wiki?curid=27093\u001b[0m\n",
            "Ernst Chain trouva la façon d'isoler et de concentrer la pénicilline et il en théorisa correctement la structure. Peu de temps après que l'équipe eut publié ses premiers résultats en 1940, Fleming se présenta et demanda à voir où elle en était. Quand Chain lui eut demandé qui il était et que Fleming lui eut dit son nom, Chain s'écria\n",
            "\n",
            "\u001b[95mAlexander Fleming (800) \u001b[0m\n",
            "\u001b[4mhttps://fr.wikipedia.org/wiki?curid=27093\u001b[0m\n",
            "Fleming était modeste quant à sa participation à cette découverte et, en évoquant sa gloire, parlait du ; il réservait ses louanges à Florey et Chain qui avaient su transformer cette trouvaille de laboratoire en un médicament utilisable. Fleming avait tout de même été le premier à isoler la substance active, et lui avait donné son nom : pénicilline. C'est lui aussi qui pendant douze ans avait conservé, cultivé et distribué la moisissure originale, et jusqu'en 1940 il avait continué à tenter de convaincre tout chimiste assez habile de la préparer sous une forme stable, susceptible d'être produite en masse. Beaucoup de tentatives échouèrent dans l'entourage de Fleming quand on voulut stabiliser la substance avant que Florey, en 1938, eût organisé à Oxford une équipe de recherche biochimique nombreuse et expérimentée. C'est seulement alors qu'on put commencer ce travail immense et révolutionnaire.\n",
            "\n",
            "\u001b[95mAntibiotique (1000) \u001b[0m\n",
            "\u001b[4mhttps://fr.wikipedia.org/wiki?curid=5128\u001b[0m\n",
            "Le premier antibiotique identifié fut la pénicilline. Si dès la fin du Ernest Duchesne découvrit les propriétés curatives de \"Penicillium glaucum\", la découverte de la pénicilline est à mettre au crédit de Sir Alexander Fleming qui s’aperçut en 1928 que certaines de ses cultures bactériennes dans des boîtes oubliées avaient été contaminées par les expériences de son voisin de paillasse étudiant le champignon \"Penicillium notatum\" et que celui-ci inhibait leur reproduction. Mais l’importance de cette découverte, ses implications et ses utilisations médicales ne furent comprises et élaborées qu’après sa redécouverte, entre les deux grandes guerres notamment à la suite des travaux de Howard Walter Florey, Ernst Chain, et en 1939.\n",
            "\n",
            "\u001b[95mPlatine (1000) \u001b[0m\n",
            "\u001b[4mhttps://fr.wikipedia.org/wiki?curid=22918\u001b[0m\n",
            "Le curieux métal platine ne fut vraiment étudié pour lui-même que par le militaire et astronome Antonio de Ulloa (1716 – 1795), qui avec Jorge Juan y Santacilia (1713 – 1773), avait été chargé par le roi Philippe V d'Espagne de rejoindre la mission scientifique française au Pérou (1735 – 1745). Parmi d’autres objets selon lui inédits, Ulloa observa le \"platina del pinto\", un métal inexploitable trouvé avec l’or de Nouvelle-Grenade (Colombie).\n",
            "\n"
          ]
        }
      ]
    },
    {
      "cell_type": "markdown",
      "source": [
        "# ReRank"
      ],
      "metadata": {
        "id": "198gdzLDVM2P"
      }
    },
    {
      "cell_type": "code",
      "source": [
        "def rerank_responses(query, responses, num_responses=10):\n",
        "  reranked_responses = co.rerank(\n",
        "    model = 'rerank-english-v2.0',\n",
        "    query = query,\n",
        "    documents = responses,\n",
        "    top_n = num_responses,\n",
        "  )\n",
        "  return reranked_responses"
      ],
      "metadata": {
        "id": "Umxiz9V7WOQJ"
      },
      "execution_count": null,
      "outputs": []
    },
    {
      "cell_type": "code",
      "source": [
        "hard_query = \"Who was the first person to win two nobel prizes?\"\n",
        "keyword_searches_to_improve = keyword_search(hard_query, num_results = 100)"
      ],
      "metadata": {
        "id": "QmJwcAl0H1F6"
      },
      "execution_count": null,
      "outputs": []
    },
    {
      "cell_type": "code",
      "source": [
        "for r in keyword_searches_to_improve[:20]:\n",
        "  print(r['title'], ':', r['text'])"
      ],
      "metadata": {
        "colab": {
          "base_uri": "https://localhost:8080/"
        },
        "id": "R-sAFqmIIwh2",
        "outputId": "73b0fc6d-9aff-46f2-95e5-131b6b0fee73"
      },
      "execution_count": null,
      "outputs": [
        {
          "output_type": "stream",
          "name": "stdout",
          "text": [
            "Neutrino : In the 1960s, the now-famous Homestake experiment made the first measurement of the flux of electron neutrinos arriving from the core of the Sun and found a value that was between one third and one half the number predicted by the Standard Solar Model. This discrepancy, which became known as the solar neutrino problem, remained unresolved for some thirty years, while possible problems with both the experiment and the solar model were investigated, but none could be found. Eventually, it was realized that both were actually correct and that the discrepancy between them was due to neutrinos being more complex than was previously assumed. It was postulated that the three neutrinos had nonzero and slightly different masses, and could therefore oscillate into undetectable flavors on their flight to the Earth. This hypothesis was investigated by a new series of experiments, thereby opening a new major field of research that still continues. Eventual confirmation of the phenomenon of neutrino oscillation led to two Nobel prizes, to R. Davis, who conceived and led the Homestake experiment, and to A.B. McDonald, who led the SNO experiment, which could detect all of the neutrino flavors and found no deficit.\n",
            "Western culture : By the will of the Swedish inventor Alfred Nobel the Nobel Prizes were established in 1895. The prizes in Chemistry, Literature, Peace, Physics, and Physiology or Medicine were first awarded in 1901. The percentage of ethnically European Nobel prize winners during the first and second halves of the 20th century were respectively 98 and 94 percent.\n",
            "Reality television : Game shows like \"Weakest Link\", \"Who Wants to Be a Millionaire?\", \"American Gladiators\" and \"Deal or No Deal\", which were popular in the 2000s, also lie in a gray area: like traditional game shows (e.g., \"The Price Is Right\", \"Jeopardy!\"), the action takes place in an enclosed television studio over a short period of time; however, they have higher production values, more dramatic background music, and higher stakes than traditional shows (done either through putting contestants into physical danger or offering large cash prizes). In addition, there is more interaction between contestants and hosts, and in some cases, they feature reality-style contestant competition or elimination as well. These factors, as well as these shows' rise in global popularity at the same time as the arrival of the reality craze, have led to such shows often being grouped under both the reality television and game show umbrellas. There have been various hybrid reality-competition shows, like the worldwide-syndicated \"Star Academy\", which combines the \"Big Brother\" and \"Idol\" formats, \"The Biggest Loser\", which combines competition with the self-improvement format, and \"American Inventor\", which uses the \"Idol\" format for products instead of people. Some reality shows that aired mostly during the early 2000s, such as \"Popstars\", \"Making the Band\" and \"Project Greenlight\", devoted the first part of the season to selecting a winner, and the second part to showing that person or group of people working on a project.\n",
            "Peter Mullan : Mullan is an art house movie director. He won a Golden Lion at 59th Venice International Film Festival for \"The Magdalene Sisters\" (2002), listed by many critics among the best films of 2003 and nominated for BAFTA Award for Best British Film and European Film Award for best film, and a Golden Shell at San Sebastián International Film Festival for \"Neds\" (2010). He is the only person to win top prizes both for acting (Cannes Best Actor award for \"My Name Is Joe\") and for the best film (Golden Lion for \"The Magdalene Sisters\") at major European film festivals.\n",
            "Indiana Pacers : From 1989 to 1993, the Pacers would play at or near .500 and qualify for the playoffs; in 1989–90, the Pacers parlayed a fast start into the team's third playoff appearance under coach Bob Hill. But the Pacers were swept by the Detroit Pistons, who would go on to win their second consecutive NBA Championship. Reggie Miller became the first Pacer to play in the All-Star Game since 1976 on the strength of his 24.6 points-per-game average. Despite four straight first-round exits, this period was highlighted by a first-round series with the Boston Celtics in 1991 that went to Game 5. The next season, the Pacers returned to the playoffs in 1992 and met the Celtics for the second year in a row. But this time, the Celtics left no doubt who was the better team, as they swept the Pacers in three straight games. Chuck Person and point guard Micheal Williams were traded to the Minnesota Timberwolves in the off-season, and the Pacers got Pooh Richardson and Sam Mitchell in return. For the 1992–93 season, Detlef Schrempf moved from sixth man to the starter at small forward and was elected to his first All-Star game. Meanwhile, Miller became the Pacers' all-time NBA era leading scorer during this season (4th overall). The Pacers returned to the playoffs with a 41–41 record, but lost to the New York Knicks in the first round, three games to one.\n",
            "William Regal : On 30 June, Regal was sent to SmackDown! as part of an eleven-person trade during the draft. His first match on \"SmackDown!\" was on 7 July against Matt Morgan in what was to be Morgan's final WWE match. It was interrupted before Regal was even able to enter the ring by Mexicools. His first full match as part of the roster was a loss to Chris Benoit in a catch wrestling match on 16 July episode of \"Velocity\". On 4 August, Regal was scheduled to go one on one with Scotty 2 Hotty, but the Mexicools came in and attacked both men. Two weeks later, they teamed up on \"SmackDown!\" against Psicosis and Super Crazy with Juventud in their corner. Halfway through the match, Regal betrayed Scotty by refusing to tag him and walked out of the ring with a smirk on his face, turning heel as a result and allowing the Mexicools to pick up the win. Two days later, Regal cut a promo telling the crowd that he had returned to his former self, referring to himself as a \"scoundrel\" and a \"rogue\". The promo ended when Scotty ran to the ring and attacked Regal. The following week, a match between the two was cut short when the debuting Paul Burchill interfered to aid his countryman. Regal went on to take Burchill under his wing and tag with him on the hunt for the WWE Tag Team Championship, but the team's biggest exposure was a loss in a handicap match against Bobby Lashley at Armageddon.\n",
            "Nobel Prize : The Nobel Foundation was founded as a private organization on 29 June 1900. Its function is to manage the finances and administration of the Nobel Prizes. In accordance with Nobel's will, the primary task of the foundation is to manage the fortune Nobel left. Robert and Ludvig Nobel were involved in the oil business in Azerbaijan, and according to Swedish historian E. Bargengren, who accessed the Nobel family archive, it was this \"decision to allow withdrawal of Alfred's money from Baku that became the decisive factor that enabled the Nobel Prizes to be established\". Another important task of the Nobel Foundation is to market the prizes internationally and to oversee informal administration related to the prizes. The foundation is not involved in the process of selecting the Nobel laureates. In many ways, the Nobel Foundation is similar to an investment company, in that it invests Nobel's money to create a solid funding base for the prizes and the administrative activities. The Nobel Foundation is exempt from all taxes in Sweden (since 1946) and from investment taxes in the United States (since 1953). Since the 1980s, the foundation's investments have become more profitable and as of 31 December 2007, the assets controlled by the Nobel Foundation amounted to 3.628 billion Swedish \"kronor\" (c. US$560 million).\n",
            "Nobel Prize : In terms of the most prestigious awards in STEM fields, only a small proportion have been awarded to women. Out of 210 laureates in Physics, 181 in Chemistry and 216 in Medicine between 1901 and 2018, there were only three female laureates in physics, five in chemistry and 12 in medicine. Factors proposed to contribute to the discrepancy between this and the roughly equal human sex ratio include biased nominations, fewer women than men being active in the relevant fields, Nobel Prizes typically being awarded decades after the research was done (reflecting a time when gender bias in the relevant fields was greater), a greater delay in awarding Nobel Prizes for women's achievements making longevity a more important factor for women (one cannot be nominated for the Nobel Prize posthumously), and a tendency to omit women from jointly awarded Nobel Prizes. Despite these factors, Marie Curie is to date the only person awarded Nobel Prizes in two different sciences (Physics in 1903, Chemistry in 1911); she is one of only three people who have received two Nobel Prizes in sciences (see Multiple laureates below). Malala Yousafzai is the youngest person ever to be awarded the Nobel Peace Prize. When she received it in 2014, she was only 17 years old.\n",
            "Nobel Prize : The Nobel Prizes ( ; ; ) are five separate prizes that, according to Alfred Nobel's will of 1895, are awarded to \"those who, during the preceding year, have conferred the greatest benefit to humankind.\" Alfred Nobel was a Swedish chemist, engineer, and industrialist most famously known for the invention of dynamite. He died in 1896. In his will, he bequeathed all of his \"remaining realisable assets\" to be used to establish five prizes which became known as \"Nobel Prizes.\" Nobel Prizes were first awarded in 1901.\n",
            "Noble gas : Ramsay continued his search for these gases using the method of fractional distillation to separate liquid air into several components. In 1898, he discovered the elements krypton, neon, and xenon, and named them after the Greek words (, \"hidden\"), (, \"new\"), and (, \"stranger\"), respectively. Radon was first identified in 1898 by Friedrich Ernst Dorn, and was named \"radium emanation\", but was not considered a noble gas until 1904 when its characteristics were found to be similar to those of other noble gases. Rayleigh and Ramsay received the 1904 Nobel Prizes in Physics and in Chemistry, respectively, for their discovery of the noble gases; in the words of J. E. Cederblom, then president of the Royal Swedish Academy of Sciences, \"the discovery of an entirely new group of elements, of which no single representative had been known with any certainty, is something utterly unique in the history of chemistry, being intrinsically an advance in science of peculiar significance\".\n",
            "Nobel Prize in Literature : The Nobel Prize in Literature is not the only literary prize for which all nationalities are eligible. Other notable international literary prizes include the Neustadt International Prize for Literature, the Franz Kafka Prize, the International Booker Prize when it was previously awarded for a writer's entire body of work, and in the 1960s the Formentor Prix International. In contrast to the other prizes mentioned, the Neustadt International Prize is awarded biennially. The journalist Hephzibah Anderson has noted that the International Booker Prize \"is fast becoming the more significant award, appearing an ever more competent alternative to the Nobel\". However since 2016 the International Booker Prize now recognises an annual book of fiction translated into English. Previous winners of the International Booker Prize who have gone on to win the Nobel Prize in Literature include Alice Munro and Olga Tokarczuk. The Neustadt International Prize for Literature is regarded as one of the most prestigious international literary prizes, often referred to as the American equivalent to the Nobel Prize. Like the Nobel Prize, it is awarded not for any one work, but for an entire body of work. It is frequently seen as an indicator of who may be awarded the Nobel Prize in Literature. Gabriel García Márquez (1972 Neustadt, 1982 Nobel), Czesław Miłosz (1978 Neustadt, 1980 Nobel), Octavio Paz (1982 Neustadt, 1990 Nobel), Tomas Tranströmer (1990 Neustadt, 2011 Nobel) were first awarded the Neustadt International Prize for Literature before being awarded the Nobel Prize in Literature.\n",
            "D.C. United : Following Soehn's replacement, the organization hired Curt Onalfo as the head coach, who has recently been terminated as manager for Kansas City Wizards (now Sporting Kansas City). United had approached then University of Akron men's soccer head coach, Caleb Porter, but Porter rejected their offer. Recently retired club midfielder, Ben Olsen, joined Onalfo's staff as an assistant coach, along with Kris Kelderman, who served as an assistant to Onfalo at Kansas City. Additionally, Soehn's assistant coaches of Chad Ashton and Mark Simpson remained on Onalfo's coaching staff for the 2010 season. Ahead of the season the club saw the departures of Luciano Emilio and Fred, two key contributors to the club during the late 2000s. The club, marred by injuries, and poor tactics, had a historically poor start to the 2010 MLS season, having a record of 3-12-3 in the clubs first 16 matches. In August 2010, United fired Onalfo and named Ben Olsen as the club's interim manager for the remainder of the 2010 season. The club would finish the season out with a 3-8-1 record, finishing with a historically poor 6-20-4 record, the worst in MLS during the 2010 season. During the 2010 season, the highlights of the season included the rise of two homegrown signings, Bill Hamid, who took over as starting goalkeeper to Troy Perkins during the season, and became the club's first choice goalkeeper throughout the 2010s, along with Andy Najar, who won the MLS Rookie of the Year Award (now Young Player of the Year), becoming the first homegrown player to win the honor. Following the end of the 2010 season, long-time United striker Jamie Moreno retired from professional soccer.\n",
            "Nobel Prize in Literature : Alfred Nobel stipulated in his last will and testament that his money be used to create a series of prizes for those who confer the \"greatest benefit on mankind\" in physics, chemistry, peace, physiology or medicine, and literature. Though Nobel wrote several wills during his lifetime, the last was written a little over a year before he died, and signed at the Swedish-Norwegian Club in Paris on 27 November 1895. Nobel bequeathed 94% of his total assets, 31 million Swedish \"kronor\" (US$198 million, €176 million in 2016), to establish and endow the five Nobel Prizes. Due to the level of scepticism surrounding the will, it was not until 26 April 1897 that the Storting (Norwegian Parliament) approved it. The executors of his will were Ragnar Sohlman and Rudolf Lilljequist, who formed the Nobel Foundation to take care of Nobel's fortune and organise the prizes.\n",
            "2021–22 Manchester United F.C. season : November began with Manchester United playing host to their local rivals Manchester City at Old Trafford. Eric Bailly started in place of Varane, who had been injured in the Champions League match against Atalanta four days earlier, and it was the Ivorian defender who opened the scoring, albeit for the away side, as he put João Cancelo's cross into his own net. Bernardo Silva doubled City's lead just before half-time, when Bailly was substituted by Jadon Sancho. City remained the more likely of the two sides to score in the second half, but De Gea was able to keep them out for the remainder of the game, and United went into the international break nine points behind league leaders Chelsea as City won a league match against United for the first time since 24 April 2019. On 20 November 2021, United suffered a 4–1 defeat to newly promoted Watford, leaving the Red Devils seventh in the table. United academy graduate Joshua King opened the scoring before De Gea saved a penalty from Ismaïla Sarr (as well as the original, which had to be retaken for encroachment); however, Sarr did eventually score just before half-time. Donny van de Beek scored his first goal of the season five minutes into the second half, but Maguire was sent off for a second yellow card midway through the period. As United searched for an equaliser, João Pedro and Emmanuel Dennis scored in added time to confirm Watford's victory. It was announced the following day that Solskjær had left his role by mutual consent and that Michael Carrick had replaced him as caretaker manager. In Carrick's first Premier League match in charge, which made him the first English manager to lead United in a league match since Ron Atkinson in November 1986, United visited Chelsea at Stamford Bridge. United opened the scoring after Jorginho miscontrolled a long clearance from Fernandes, allowing Sancho to take advantage of a two-on-one with Édouard Mendy and score his first league goal for United; however, Jorginho made up for his mistake from the penalty spot, after Aaron Wan-Bissaka had fouled Thiago Silva in the penalty area, and the match finished 1–1, making Chelsea still seeking their first league win against United since November 2017.\n",
            "Nobel Prize : Alfred Nobel left his fortune to finance annual prizes to be awarded \"to those who, during the preceding year, shall have conferred the greatest benefit on mankind\". He stated that the Nobel Prizes in Physics should be given \"to the person who shall have made the most important 'discovery' or 'invention' within the field of physics\". Nobel did not emphasise discoveries, but they have historically been held in higher respect by the Nobel Prize Committee than inventions: 77% of the Physics Prizes have been given to discoveries, compared with only 23% to inventions. Christoph Bartneck and Matthias Rauterberg, in papers published in \"Nature\" and \"Technoetic Arts\", have argued this emphasis on discoveries has moved the Nobel Prize away from its original intention of rewarding the greatest contribution to society.\n",
            "Nobel Prize : Nobel wrote several wills during his lifetime. He composed the last over a year before he died, signing it at the Swedish–Norwegian Club in Paris on 27 November 1895. To widespread astonishment, Nobel's last will specified that his fortune be used to create a series of prizes for those who confer the \"greatest benefit on mankind\" in physics, chemistry, physiology or medicine, literature, and peace. Nobel bequeathed 94% of his total assets, 31 million SEK (c. US$186 million, €150 million in 2008), to establish the five Nobel Prizes. Owing to skepticism surrounding the will, it was not approved by the Storting in Norway until 26 April 1897. The executors of the will, Ragnar Sohlman and Rudolf Lilljequist, formed the Nobel Foundation to take care of the fortune and to organise the awarding of prizes.\n",
            "Zach LaVine : On July 6, 2018, the restricted free agent LaVine received a four-year, $80 million offer sheet from the Sacramento Kings. Two days later, the Bulls exercised their right of first refusal and matched the offer sheet extended to LaVine by the Kings. LaVine scored at least 30 points in each of the Bulls' first three games of the season, becoming the third Chicago player to do so, joining Michael Jordan (1986) and Bob Love (1971). On October 24, he made two free throws with 0.5 seconds left to lift the Bulls to a 112–110 win over the Charlotte Hornets. He finished with 32 points for his fourth straight 30-point game to start the season. On November 5, he scored a career-high 41 points, including the game-winning free throw with 0.2 seconds left, as the Bulls beat the New York Knicks 116–115 in double overtime. On November 10, he scored 24 points in a 99–98 win over the Cleveland Cavaliers, thus scoring 20 or more points in each of Chicago's 13 games to begin the season and in a career-high 14 straight overall, dating to his final game of 2017–18. The last Bulls player to score 20-plus points in 14 consecutive games was Jimmy Butler, who did it 15 straight times in 2016. He scored 26 points against the Dallas Mavericks on November 12 for 15 straight, before a 10-point game on November 14 against the Boston Celtics ended the streak. On December 26, after missing five games with a sprained left ankle, LaVine had 28 points in 26 minutes off the bench in a 119–94 loss to the Timberwolves.\n",
            "2011 Formula One World Championship : At the , Vettel took once again pole position, beating Hamilton by half a second, but it was the fourth-starting Fernando Alonso who led the race going into the first corner. Vitantonio Liuzzi made contact with Kovalainen and lost control, sliding off the grass and crashing heavily into Rosberg and Petrov and triggering the safety car. Vettel took the lead from Alonso one lap after the restart, while Schumacher overtook Hamilton. Mark Webber attempted to pass Felipe Massa, but the two made contact, pitching Massa into a spin. Webber continued with a broken front wing, crashing at Parabolica as he attempted to return to pit. Further down the order, Schumacher received several carefully worded instructions from team principal Ross Brawn, reminding him not to cut across the track to defend against Hamilton. Schumacher's duel with Hamilton slowed them down enough for Jenson Button to catch up; where Hamilton took thirty laps to pass Schumacher, Button passed him on his first attempt and started catching the second-placed Alonso. Vettel went on to win the race, extending his lead enough that he would need just one more win to win his second World Championship. Webber's failure to finish meant that he fell to fourth in the drivers' standings, behind Alonso and Button, while Hamilton's fourth place meant he fell further behind in the championship.\n",
            "2021–22 Manchester United F.C. season : As a Premier League side, Manchester United entered the FA Cup in the Third Round Proper. The draw took place on 6 December, and United were given a home draw with Aston Villa. The match was played on 10 January 2022. Villa had two goals disallowed for offside as Scott McTominay scored the only goal in a 1–0 win for United. United drew Championship side Middlesbrough in the Fourth Round Proper. Cristiano Ronaldo missed a penalty five minutes before Jadon Sancho opened the scoring. A handball by former United academy player Duncan Watmore was correctly ruled accidental by referee Anthony Taylor and video assistant referee Stuart Attwell per the new IFAB rule, meaning the 64th-minute equaliser from Matt Crooks, who also formerly a United academy player, stood. After going through extra time, United and Middlesbrough scored all their first seven penalties in the shoot-out, including one from former United defender Paddy McNair. Lee Peltier scored the eighth penalty before Anthony Elanga missed his and condemned United to their earliest FA Cup exit since the third round defeat in the 2013–14 season and the first time in the fourth round since 2011–12. This was also United's first FA Cup elimination by a lower division side since their elimination by Leeds United, then a Championship side as well, in the 2009–10 third round and the first FA Cup defeat on penalties since the 2008–09 semi-finals, as they are yet to win an FA Cup match shoot-out. For Middlesbrough, this was their second consecutive cup triumph over United, having also won on penalties at Old Trafford in the 2015–16 League Cup fourth round.\n",
            "Christians : Christians have made noted contributions to a range of fields, including philosophy, science and technology, medicine, fine arts and architecture, politics, literatures, music, and business. According to \"100 Years of Nobel Prizes\" a review of the Nobel Prizes award between 1901 and 2000 reveals that (65.4%) of Nobel Prizes Laureates, have identified Christianity in its various forms as their religious preference.\n"
          ]
        }
      ]
    },
    {
      "cell_type": "code",
      "source": [
        "reranked_keyword_responses = rerank_responses(hard_query, keyword_searches_to_improve, num_responses=100)"
      ],
      "metadata": {
        "id": "thziTh7eKB0-"
      },
      "execution_count": null,
      "outputs": []
    },
    {
      "cell_type": "code",
      "source": [
        "for r in reranked_keyword_responses[:10]:\n",
        "  print(\"Title:\", r.document['title'])\n",
        "  print(\"URL:\", r.document['url'])\n",
        "  print(\"Text:\", r.document['text'])\n",
        "  print(\"Score:\",  r.relevance_score)\n",
        "  print()"
      ],
      "metadata": {
        "colab": {
          "base_uri": "https://localhost:8080/"
        },
        "id": "Dan5Q43AKyMh",
        "outputId": "b54db122-7c96-4efe-d922-b699dfe6753f"
      },
      "execution_count": null,
      "outputs": [
        {
          "output_type": "stream",
          "name": "stdout",
          "text": [
            "Title: Nobel Prize\n",
            "URL: https://en.wikipedia.org/wiki?curid=21201\n",
            "Text: Five people have received two Nobel Prizes. Marie Curie received the Physics Prize in 1903 for her work on radioactivity and the Chemistry Prize in 1911 for the isolation of pure radium, making her the only person to be awarded a Nobel Prize in two different sciences. Linus Pauling was awarded the 1954 Chemistry Prize for his research into the chemical bond and its application to the structure of complex substances. Pauling was also awarded the Peace Prize in 1962 for his activism against nuclear weapons, making him the only laureate of two unshared prizes. John Bardeen received the Physics Prize twice: in 1956 for the invention of the transistor and in 1972 for the theory of superconductivity. Frederick Sanger received the prize twice in Chemistry: in 1958 for determining the structure of the insulin molecule and in 1980 for inventing a method of determining base sequences in DNA. Karl Barry Sharpless was awarded the 2001 Chemistry Prize for his research into chirally catalysed oxidation reactions, and the 2022 Chemistry Prize for click chemistry.\n",
            "Score: 0.98109454\n",
            "\n",
            "Title: Neutrino\n",
            "URL: https://en.wikipedia.org/wiki?curid=21485\n",
            "Text: In the 1960s, the now-famous Homestake experiment made the first measurement of the flux of electron neutrinos arriving from the core of the Sun and found a value that was between one third and one half the number predicted by the Standard Solar Model. This discrepancy, which became known as the solar neutrino problem, remained unresolved for some thirty years, while possible problems with both the experiment and the solar model were investigated, but none could be found. Eventually, it was realized that both were actually correct and that the discrepancy between them was due to neutrinos being more complex than was previously assumed. It was postulated that the three neutrinos had nonzero and slightly different masses, and could therefore oscillate into undetectable flavors on their flight to the Earth. This hypothesis was investigated by a new series of experiments, thereby opening a new major field of research that still continues. Eventual confirmation of the phenomenon of neutrino oscillation led to two Nobel prizes, to R. Davis, who conceived and led the Homestake experiment, and to A.B. McDonald, who led the SNO experiment, which could detect all of the neutrino flavors and found no deficit.\n",
            "Score: 0.9334308\n",
            "\n",
            "Title: Alfred Nobel\n",
            "URL: https://en.wikipedia.org/wiki?curid=851\n",
            "Text: Nobel was elected a member of the Royal Swedish Academy of Sciences in 1884, the same institution that would later select laureates for two of the Nobel prizes, and he received an honorary doctorate from Uppsala University in 1893.\n",
            "Score: 0.82046944\n",
            "\n",
            "Title: Western culture\n",
            "URL: https://en.wikipedia.org/wiki?curid=21208262\n",
            "Text: By the will of the Swedish inventor Alfred Nobel the Nobel Prizes were established in 1895. The prizes in Chemistry, Literature, Peace, Physics, and Physiology or Medicine were first awarded in 1901. The percentage of ethnically European Nobel prize winners during the first and second halves of the 20th century were respectively 98 and 94 percent.\n",
            "Score: 0.7897206\n",
            "\n",
            "Title: Nobel Prize\n",
            "URL: https://en.wikipedia.org/wiki?curid=21201\n",
            "Text: In 1938 and 1939, Adolf Hitler's Third Reich forbade three laureates from Germany (Richard Kuhn, Adolf Friedrich Johann Butenandt, and Gerhard Domagk) from accepting their prizes. They were all later able to receive the diploma and medal. Even though Sweden was officially neutral during the Second World War, the prizes were awarded irregularly. In 1939, the Peace Prize was not awarded. No prize was awarded in any category from 1940 to 1942, due to the occupation of Norway by Germany. In the subsequent year, all prizes were awarded except those for literature and peace.\n",
            "Score: 0.761893\n",
            "\n",
            "Title: Nobel Prize in Literature\n",
            "URL: https://en.wikipedia.org/wiki?curid=23385442\n",
            "Text: There are also prizes for honouring the lifetime achievement of writers in specific languages, like the Miguel de Cervantes Prize (for Spanish language, established in 1976) and the Camões Prize (for Portuguese language, established in 1989). Nobel laureates who were also awarded the Miguel de Cervantes Prize include Octavio Paz (1981 Cervantes, 1990 Nobel); Mario Vargas Llosa (1994 Cervantes, 2010 Nobel); and Camilo José Cela (1995 Cervantes, 1989 Nobel). José Saramago is the only author to receive both the Camões Prize (1995) and the Nobel Prize (1998) to date.\n",
            "Score: 0.7221353\n",
            "\n",
            "Title: Nobel Prize\n",
            "URL: https://en.wikipedia.org/wiki?curid=21201\n",
            "Text: In terms of the most prestigious awards in STEM fields, only a small proportion have been awarded to women. Out of 210 laureates in Physics, 181 in Chemistry and 216 in Medicine between 1901 and 2018, there were only three female laureates in physics, five in chemistry and 12 in medicine. Factors proposed to contribute to the discrepancy between this and the roughly equal human sex ratio include biased nominations, fewer women than men being active in the relevant fields, Nobel Prizes typically being awarded decades after the research was done (reflecting a time when gender bias in the relevant fields was greater), a greater delay in awarding Nobel Prizes for women's achievements making longevity a more important factor for women (one cannot be nominated for the Nobel Prize posthumously), and a tendency to omit women from jointly awarded Nobel Prizes. Despite these factors, Marie Curie is to date the only person awarded Nobel Prizes in two different sciences (Physics in 1903, Chemistry in 1911); she is one of only three people who have received two Nobel Prizes in sciences (see Multiple laureates below). Malala Yousafzai is the youngest person ever to be awarded the Nobel Peace Prize. When she received it in 2014, she was only 17 years old.\n",
            "Score: 0.6962682\n",
            "\n",
            "Title: Noble gas\n",
            "URL: https://en.wikipedia.org/wiki?curid=21140\n",
            "Text: Ramsay continued his search for these gases using the method of fractional distillation to separate liquid air into several components. In 1898, he discovered the elements krypton, neon, and xenon, and named them after the Greek words (, \"hidden\"), (, \"new\"), and (, \"stranger\"), respectively. Radon was first identified in 1898 by Friedrich Ernst Dorn, and was named \"radium emanation\", but was not considered a noble gas until 1904 when its characteristics were found to be similar to those of other noble gases. Rayleigh and Ramsay received the 1904 Nobel Prizes in Physics and in Chemistry, respectively, for their discovery of the noble gases; in the words of J. E. Cederblom, then president of the Royal Swedish Academy of Sciences, \"the discovery of an entirely new group of elements, of which no single representative had been known with any certainty, is something utterly unique in the history of chemistry, being intrinsically an advance in science of peculiar significance\".\n",
            "Score: 0.6953381\n",
            "\n",
            "Title: Nobel Prize in Literature\n",
            "URL: https://en.wikipedia.org/wiki?curid=23385442\n",
            "Text: The Nobel Prize in Literature can be shared between two individuals. However, the Academy has been reluctant to award shared prizes, mainly because divisions are liable to be interpreted as a result of a compromise. The shared prizes awarded to Frederic Mistral and José Echegaray in 1904 and to Karl Gjellerup and Henrik Pontoppidan in 1917 were in fact both a result of compromises. The Academy has also hesitated to divide the prize between two authors as a shared prize runs the risk of being regarded as only half a laurel. Shared prizes are exceptional, and more recently the Academy has awarded a shared prize on only two occasions, to Shmuel Yosef Agnon and Nelly Sachs in 1966, and to Eyvind Johnson and Harry Martinson in 1974.\n",
            "Score: 0.6453435\n",
            "\n",
            "Title: Nobel Prize in Literature\n",
            "URL: https://en.wikipedia.org/wiki?curid=23385442\n",
            "Text: Alfred Nobel's guidelines for the prize that the candidate should have bestowed \"the greatest benefit on mankind\", and writing \"in an idealistic direction\" have caused much discussion. In the early history of the prize Nobel's \"idealism\" was read as \"a lofty and sound idealism\". The set of criteria, characterised by its conservative idealism, holding church, state and family sacred, resulted in prizes to Bjørnstjerne Bjørnson, Rudyard Kipling and Paul Heyse. During World War I there was a policy of neutrality, which partly explains the number of awards to Scandinavian writers. In the 1920s \"idealistic direction\" was interpreted more generously as \"wide-hearted humanity\", and writers like Anatole France, George Bernard Shaw and Thomas Mann were awarded. In the 1930s \"the greatest benefit on mankind\" was interpreted as writers within everybody's reach, with authors like Sinclair Lewis and Pearl Buck being awarded. From 1946 a renewed Academy changed focus and began to award literary pioneers like Hermann Hesse, André Gide, T. S. Eliot and William Faulkner. From this era, \"the greatest benefit on mankind\" was interpreted in a more exclusive and generous way than before. Since the 1970s the Academy has often given attention to important but internationally unnoticed writers, awarding writers like Isaac Bashevis Singer, Odysseus Elytis, Elias Canetti, and Jaroslav Seifert.\n",
            "Score: 0.6166473\n",
            "\n"
          ]
        }
      ]
    },
    {
      "cell_type": "markdown",
      "source": [
        "# Generating responses\n",
        "\n"
      ],
      "metadata": {
        "id": "ZiKHq4eeXu0d"
      }
    },
    {
      "cell_type": "code",
      "source": [
        "import cohere\n",
        "co = cohere.Client(cohere_api_key)"
      ],
      "metadata": {
        "id": "DBlD76x4WgqO"
      },
      "execution_count": null,
      "outputs": []
    },
    {
      "cell_type": "code",
      "source": [
        "query = \"How many people have won more than one Nobel prize?\""
      ],
      "metadata": {
        "id": "LVOj-KJ1X0fl"
      },
      "execution_count": null,
      "outputs": []
    },
    {
      "cell_type": "code",
      "source": [
        "prediction_without_search = co.generate(\n",
        "    prompt=query,\n",
        "    max_tokens=50,\n",
        "    num_generations=5,\n",
        "    )"
      ],
      "metadata": {
        "id": "D0HdGsq4YKI8"
      },
      "execution_count": null,
      "outputs": []
    },
    {
      "cell_type": "code",
      "source": [
        "for p in prediction_without_search:\n",
        "  print(p.text)"
      ],
      "metadata": {
        "colab": {
          "base_uri": "https://localhost:8080/"
        },
        "id": "3YbNpIKygBck",
        "outputId": "15316bd2-dad3-4ace-804a-b64bb03a97b2"
      },
      "execution_count": null,
      "outputs": [
        {
          "output_type": "stream",
          "name": "stdout",
          "text": [
            " There have been 24 Nobel Prize recipients who have won the prize more than once. Among them, John Bardeen has won the most Nobel Prizes, with four Nobel Prizes in Physics. Marie Curie has won the most Nobel Prizes among women, with the\n",
            " There have been 25 Nobel Prize recipients who have won more than one Nobel Prize. Of these, 14 are men and 11 are women. The most Nobel Prizes won by a single person is four, which was achieved by Marie Curie, who won the\n",
            " There are currently 18 individuals who have received more than one Nobel Prize. Of those, seven are still living. \n",
            " There have been 24 Nobel Laureates who have won the Nobel Prize more than once.\n",
            " There are currently 13 people who have won more than one Nobel Prize. The most Nobel Prizes won by a single person is four, which is the case for Marie Curie. She won the Nobel Prize in Physics in 1903, in 1911, and in\n"
          ]
        }
      ]
    },
    {
      "cell_type": "code",
      "source": [
        "responses = dense_retrieval(query, num_results = 20)\n",
        "print_result(responses)"
      ],
      "metadata": {
        "colab": {
          "base_uri": "https://localhost:8080/"
        },
        "id": "ezjlg35SYL0h",
        "outputId": "d0b988cb-691d-4992-a0c6-b21b09209b42"
      },
      "execution_count": null,
      "outputs": [
        {
          "output_type": "stream",
          "name": "stdout",
          "text": [
            "\u001b[95mNobel Peace Prize (2000) \u001b[0m\n",
            "\u001b[4mhttps://en.wikipedia.org/wiki?curid=26230922\u001b[0m\n",
            ", the Peace Prize has been awarded to 110 individuals and 27 organizations. 18 women have won the Nobel Peace Prize, more than any other Nobel Prize. Only two recipients have won multiple Prizes: the International Committee of the Red Cross has won three times (1917, 1944, and 1963) and the Office of the United Nations High Commissioner for Refugees has won twice (1954 and 1981). Lê Đức Thọ is the only person who refused to accept the Nobel Peace Prize.\n",
            "\n",
            "\u001b[95mNobel Prize (2000) \u001b[0m\n",
            "\u001b[4mhttps://en.wikipedia.org/wiki?curid=21201\u001b[0m\n",
            "The strict rule against awarding a prize to more than three people is also controversial. When a prize is awarded to recognise an achievement by a team of more than three collaborators, one or more will miss out. For example, in 2002, the prize was awarded to Koichi Tanaka and John Fenn for the development of mass spectrometry in protein chemistry, an award that did not recognise the achievements of Franz Hillenkamp and Michael Karas of the Institute for Physical and Theoretical Chemistry at the University of Frankfurt.\n",
            "\n",
            "\u001b[95mNobel Prize (2000) \u001b[0m\n",
            "\u001b[4mhttps://en.wikipedia.org/wiki?curid=21201\u001b[0m\n",
            "The prize ceremonies take place annually. Each recipient (known as a \"laureate\") receives a gold medal, a diploma, and a monetary award. In 2021, the Nobel Prize monetary award is 10,000,000 SEK. A prize may not be shared among more than three individuals, although the Nobel Peace Prize can be awarded to organizations of more than three people. Although Nobel Prizes are not awarded posthumously, if a person is awarded a prize and dies before receiving it, the prize is presented.\n",
            "\n",
            "\u001b[95mNobel Prize (2000) \u001b[0m\n",
            "\u001b[4mhttps://en.wikipedia.org/wiki?curid=21201\u001b[0m\n",
            "Candidates can receive multiple nominations the same year. Gaston Ramon received a total of 155 nominations in physiology or medicine from 1930 to 1953, the last year with public nomination data for that award . He died in 1963 without being awarded. Pierre Paul Émile Roux received 115 nominations in physiology or medicine, and Arnold Sommerfeld received 84 in physics. These are the three most nominated scientists without awards in the data published . Otto Stern received 79 nominations in physics 1925–1943 before being awarded in 1943.\n",
            "\n",
            "\u001b[95mNobel Prize in Literature (2000) \u001b[0m\n",
            "\u001b[4mhttps://en.wikipedia.org/wiki?curid=23385442\u001b[0m\n",
            "The Nobel Prize in Literature has been awarded 115 times between 1901 and 2022 to 119 individuals: 102 men and 17 women. The prize has been shared between two individuals on four occasions. It was not awarded on seven occasions. The laureates have included writers in 25 different languages. The youngest laureate was Rudyard Kipling, who was 41 years old when he was awarded in 1907. The oldest laureate to receive the prize was Doris Lessing, who was 88 when she was awarded in 2007. It has been awarded posthumously once, to Erik Axel Karlfeldt in 1931. On some occasions the awarding institution the Swedish Academy have awarded the prize to its own members; Verner von Heidenstam in 1916, the posthumous prize to Karlfeldt in 1931, Pär Lagerkvist in 1951 and the shared prize to Eyvind Johnson and Harry Martinson in 1974. Selma Lagerlöf was elected a member of the Swedish Academy in 1914, five years after she was awarded the Nobel Prize in 1909. Two writers have declined the prize, Boris Pasternak in 1958 (\"Accepted first, later caused by the authorities of his country (Soviet Union) to decline the Prize\", according to the Nobel Foundation) and Jean-Paul Sartre in 1964.\n",
            "\n",
            "\u001b[95mNobel Prize (2000) \u001b[0m\n",
            "\u001b[4mhttps://en.wikipedia.org/wiki?curid=21201\u001b[0m\n",
            "The Nobel Prizes, beginning in 1901, and the Nobel Memorial Prize in Economic Sciences, beginning in 1969, have been awarded 609 times to 975 people and 25 organizations. Five individuals and two organisations have received more than one Nobel Prize.\n",
            "\n",
            "\u001b[95mNobel Prize (2000) \u001b[0m\n",
            "\u001b[4mhttps://en.wikipedia.org/wiki?curid=21201\u001b[0m\n",
            "The laureates are given a sum of money when they receive their prizes, in the form of a document confirming the amount awarded. The amount of prize money depends upon how much money the Nobel Foundation can award each year. The purse has increased since the 1980s, when the prize money was 880,000 SEK per prize (c. 2.6 million SEK altogether, US$350,000 today). In 2009, the monetary award was 10 million SEK (US$1.4 million). In June 2012, it was lowered to 8 million SEK. If two laureates share the prize in a category, the award grant is divided equally between the recipients. If there are three, the awarding committee has the option of dividing the grant equally, or awarding one-half to one recipient and one-quarter to each of the others. It is common for recipients to donate prize money to benefit scientific, cultural, or humanitarian causes.\n",
            "\n",
            "\u001b[95mNobel Prize (2000) \u001b[0m\n",
            "\u001b[4mhttps://en.wikipedia.org/wiki?curid=21201\u001b[0m\n",
            "The institutions meet to choose the laureate or laureates in each field by a majority vote. Their decision, which cannot be appealed, is announced immediately after the vote. A maximum of three laureates and two different works may be selected per award. Except for the Peace Prize, which can be awarded to institutions, the awards can only be given to individuals.\n",
            "\n",
            "\u001b[95mUnited Nations (3000) \u001b[0m\n",
            "\u001b[4mhttps://en.wikipedia.org/wiki?curid=31769\u001b[0m\n",
            "A number of agencies and individuals associated with the UN have won the Nobel Peace Prize in recognition of their work. Two secretaries-general, Dag Hammarskjöld and Kofi Annan, were each awarded the prize (in 1961 and 2001, respectively), as were Ralph Bunche (1950), a UN negotiator, René Cassin (1968), a contributor to the Universal Declaration of Human Rights, and the US Secretary of State Cordell Hull (1945), the latter for his role in the organization's founding. Lester B. Pearson, the Canadian Secretary of State for External Affairs, was awarded the prize in 1957 for his role in organizing the UN's first peacekeeping force to resolve the Suez Crisis. UNICEF won the prize in 1965, the International Labour Organization in 1969, the UN Peacekeeping Forces in 1988, the International Atomic Energy Agency (which reports to the UN) in 2005, and the UN-supported Organisation for the Prohibition of Chemical Weapons in 2013. The UN High Commissioner for Refugees was awarded in 1954 and 1981, becoming one of only two recipients to win the prize twice. The UN as a whole was awarded the prize in 2001, sharing it with Annan. In 2007, IPCC received the prize \"for their efforts to build up and disseminate greater knowledge about man-made climate change, and to lay the foundations for the measures that are needed to counteract such change.\"\n",
            "\n",
            "\u001b[95mNobel Peace Prize (2000) \u001b[0m\n",
            "\u001b[4mhttps://en.wikipedia.org/wiki?curid=26230922\u001b[0m\n",
            "In 2009, a record 205 nominations were received, but the record was broken again in 2010 with 237 nominations; in 2011, the record was broken once again with 241 nominations. The statutes of the Nobel Foundation do not allow information about nominations, considerations, or investigations relating to awarding the prize to be made public for at least 50 years after a prize has been awarded. Over time, many individuals have become known as \"Nobel Peace Prize Nominees\", but this designation has no official standing, and means only that one of the thousands of eligible nominators suggested the person's name for consideration. Indeed, in 1939, Adolf Hitler received a satirical nomination from a member of the Swedish parliament, mocking the (serious but unsuccessful) nomination of Neville Chamberlain. Nominations from 1901 to 1967 have been released in a database.\n",
            "\n",
            "\u001b[95mNobel Prize (2000) \u001b[0m\n",
            "\u001b[4mhttps://en.wikipedia.org/wiki?curid=21201\u001b[0m\n",
            "The Curie family has received the most prizes, with four prizes awarded to five individual laureates. Marie Curie received the prizes in Physics (in 1903) and Chemistry (in 1911). Her husband, Pierre Curie, shared the 1903 Physics prize with her. Their daughter, Irène Joliot-Curie, received the Chemistry Prize in 1935 together with her husband Frédéric Joliot-Curie. In addition, the husband of Marie Curie's second daughter, Henry Labouisse, was the director of UNICEF when he accepted the Nobel Peace Prize in 1965 on that organisation's behalf.\n",
            "\n",
            "\u001b[95mNobel Prize (2000) \u001b[0m\n",
            "\u001b[4mhttps://en.wikipedia.org/wiki?curid=21201\u001b[0m\n",
            "Other high-profile individuals with widely recognised contributions to peace have been overlooked. In 2009, an article in \"Foreign Policy\" magazine identified seven people who \"never won the prize, but should have\". The list consisted of Gandhi, Eleanor Roosevelt, Václav Havel, Ken Saro-Wiwa, Sari Nusseibeh, Corazon Aquino, and Liu Xiaobo. Liu Xiaobo would go on to win the 2010 Nobel Peace Prize while imprisoned.\n",
            "\n",
            "\u001b[95mUnitarianism (2000) \u001b[0m\n",
            "\u001b[4mhttps://en.wikipedia.org/wiki?curid=32164\u001b[0m\n",
            "Eleven Nobel Prizes have been awarded to Unitarians: Robert Millikan and John Bardeen (twice) in physics; Emily Green Balch, Albert Schweitzer and Linus Pauling for peace; George Wald and David H. Hubel in medicine; Linus Pauling in chemistry; and Herbert A. Simon in economics.\n",
            "\n",
            "\u001b[95mNobel Prize (2000) \u001b[0m\n",
            "\u001b[4mhttps://en.wikipedia.org/wiki?curid=21201\u001b[0m\n",
            "Five people have received two Nobel Prizes. Marie Curie received the Physics Prize in 1903 for her work on radioactivity and the Chemistry Prize in 1911 for the isolation of pure radium, making her the only person to be awarded a Nobel Prize in two different sciences. Linus Pauling was awarded the 1954 Chemistry Prize for his research into the chemical bond and its application to the structure of complex substances. Pauling was also awarded the Peace Prize in 1962 for his activism against nuclear weapons, making him the only laureate of two unshared prizes. John Bardeen received the Physics Prize twice: in 1956 for the invention of the transistor and in 1972 for the theory of superconductivity. Frederick Sanger received the prize twice in Chemistry: in 1958 for determining the structure of the insulin molecule and in 1980 for inventing a method of determining base sequences in DNA. Karl Barry Sharpless was awarded the 2001 Chemistry Prize for his research into chirally catalysed oxidation reactions, and the 2022 Chemistry Prize for click chemistry.\n",
            "\n",
            "\u001b[95mNobel Prize (2000) \u001b[0m\n",
            "\u001b[4mhttps://en.wikipedia.org/wiki?curid=21201\u001b[0m\n",
            "The interval between the award and the accomplishment it recognises varies from discipline to discipline. The Literature Prize is typically awarded to recognise a cumulative lifetime body of work rather than a single achievement. The Peace Prize can also be awarded for a lifetime body of work. For example, 2008 laureate Martti Ahtisaari was awarded for his work to resolve international conflicts. However, they can also be awarded for specific recent events. For instance, Kofi Annan was awarded the 2001 Peace Prize just four years after becoming the Secretary-General of the United Nations. Similarly Yasser Arafat, Yitzhak Rabin, and Shimon Peres received the 1994 award, about a year after they successfully concluded the Oslo Accords. The most recent controversy was caused by awarding the 2009 Nobel Peace Prize to Barack Obama in his first year as US president.\n",
            "\n",
            "\u001b[95mFrance (4000) \u001b[0m\n",
            "\u001b[4mhttps://en.wikipedia.org/wiki?curid=5843419\u001b[0m\n",
            "As of 2022, France ranks fourth in the number of Nobel laureates, with 70 French people having been awarded a Nobel Prize. Twelve French mathematicians have received a Fields Medal, considered the most prestigious award in the field, making up one-fifth of total recipients, and second only to the United States.\n",
            "\n",
            "\u001b[95mNobel Prize (2000) \u001b[0m\n",
            "\u001b[4mhttps://en.wikipedia.org/wiki?curid=21201\u001b[0m\n",
            "Although posthumous nominations are not presently permitted, individuals who died in the months between their nomination and the decision of the prize committee were originally eligible to receive the prize. This has occurred twice: the 1931 Literature Prize awarded to Erik Axel Karlfeldt, and the 1961 Peace Prize awarded to UN Secretary General Dag Hammarskjöld. Since 1974, laureates must be thought alive at the time of the October announcement. There has been one laureate, William Vickrey, who in 1996 died after the prize (in Economics) was announced but before it could be presented. On 3 October 2011, the laureates for the Nobel Prize in Physiology or Medicine were announced; however, the committee was not aware that one of the laureates, Ralph M. Steinman, had died three days earlier. The committee was debating about Steinman's prize, since the rule is that the prize is not awarded posthumously. The committee later decided that as the decision to award Steinman the prize \"was made in good faith\", it would remain unchanged.\n",
            "\n",
            "\u001b[95mLiterature (2000) \u001b[0m\n",
            "\u001b[4mhttps://en.wikipedia.org/wiki?curid=18963870\u001b[0m\n",
            "Nobel Prizes in Literature have been awarded between 1901 and 2020 to 117 individuals: 101 men and 16 women. Selma Lagerlöf (1858 – 1940) was the first woman to win the Nobel Prize in Literature, which she was awarded in 1909. Additionally, she was the first woman to be granted a membership in The Swedish Academy in 1914.\n",
            "\n",
            "\u001b[95mProtestantism (2000) \u001b[0m\n",
            "\u001b[4mhttps://en.wikipedia.org/wiki?curid=25814008\u001b[0m\n",
            "According to \"100 Years of Nobel Prize (2005)\", a review of Nobel prizes awarded between 1901 and 2000, 65% of Nobel Prize Laureates, have identified Christianity in its various forms as their religious preference (423 prizes). While 32% have identified with Protestantism in its various forms (208 prizes), although Protestants are 12% to 13% of the world's population.\n",
            "\n",
            "\u001b[95mNobel Prize in Literature (2000) \u001b[0m\n",
            "\u001b[4mhttps://en.wikipedia.org/wiki?curid=23385442\u001b[0m\n",
            "The prize's focus on European men, and Swedes in particular, has been the subject of criticism, even from Swedish newspapers. The majority of laureates have been European, with Sweden itself receiving more prizes (8) than all of Asia (7, if Turkish Orhan Pamuk is included), as well as all of Latin America (7, if Saint Lucian Derek Walcott is included). In 2009, Horace Engdahl, then the permanent secretary of the Academy, declared that \"Europe still is the centre of the literary world\" and that \"the US is too isolated, too insular. They don't translate enough and don't really participate in the big dialogue of literature.\"\n",
            "\n"
          ]
        }
      ]
    },
    {
      "cell_type": "code",
      "source": [
        "context = [r['text'] for r in responses]\n",
        "context[:10]"
      ],
      "metadata": {
        "colab": {
          "base_uri": "https://localhost:8080/"
        },
        "id": "3CNlHTXSYYRG",
        "outputId": "7031ede3-925f-47ac-997f-026a6e504f87"
      },
      "execution_count": null,
      "outputs": [
        {
          "output_type": "execute_result",
          "data": {
            "text/plain": [
              "[', the Peace Prize has been awarded to 110 individuals and 27 organizations. 18 women have won the Nobel Peace Prize, more than any other Nobel Prize. Only two recipients have won multiple Prizes: the International Committee of the Red Cross has won three times (1917, 1944, and 1963) and the Office of the United Nations High Commissioner for Refugees has won twice (1954 and 1981). Lê Đức Thọ is the only person who refused to accept the Nobel Peace Prize.',\n",
              " 'The strict rule against awarding a prize to more than three people is also controversial. When a prize is awarded to recognise an achievement by a team of more than three collaborators, one or more will miss out. For example, in 2002, the prize was awarded to Koichi Tanaka and John Fenn for the development of mass spectrometry in protein chemistry, an award that did not recognise the achievements of Franz Hillenkamp and Michael Karas of the Institute for Physical and Theoretical Chemistry at the University of Frankfurt.',\n",
              " 'The prize ceremonies take place annually. Each recipient (known as a \"laureate\") receives a gold medal, a diploma, and a monetary award. In 2021, the Nobel Prize monetary award is 10,000,000 SEK. A prize may not be shared among more than three individuals, although the Nobel Peace Prize can be awarded to organizations of more than three people. Although Nobel Prizes are not awarded posthumously, if a person is awarded a prize and dies before receiving it, the prize is presented.',\n",
              " 'Candidates can receive multiple nominations the same year. Gaston Ramon received a total of 155 nominations in physiology or medicine from 1930 to 1953, the last year with public nomination data for that award . He died in 1963 without being awarded. Pierre Paul Émile Roux received 115 nominations in physiology or medicine, and Arnold Sommerfeld received 84 in physics. These are the three most nominated scientists without awards in the data published . Otto Stern received 79 nominations in physics 1925–1943 before being awarded in 1943.',\n",
              " 'The Nobel Prize in Literature has been awarded 115 times between 1901 and 2022 to 119 individuals: 102 men and 17 women. The prize has been shared between two individuals on four occasions. It was not awarded on seven occasions. The laureates have included writers in 25 different languages. The youngest laureate was Rudyard Kipling, who was 41 years old when he was awarded in 1907. The oldest laureate to receive the prize was Doris Lessing, who was 88 when she was awarded in 2007. It has been awarded posthumously once, to Erik Axel Karlfeldt in 1931. On some occasions the awarding institution the Swedish Academy have awarded the prize to its own members; Verner von Heidenstam in 1916, the posthumous prize to Karlfeldt in 1931, Pär Lagerkvist in 1951 and the shared prize to Eyvind Johnson and Harry Martinson in 1974. Selma Lagerlöf was elected a member of the Swedish Academy in 1914, five years after she was awarded the Nobel Prize in 1909. Two writers have declined the prize, Boris Pasternak in 1958 (\"Accepted first, later caused by the authorities of his country (Soviet Union) to decline the Prize\", according to the Nobel Foundation) and Jean-Paul Sartre in 1964.',\n",
              " 'The Nobel Prizes, beginning in 1901, and the Nobel Memorial Prize in Economic Sciences, beginning in 1969, have been awarded 609 times to 975 people and 25 organizations. Five individuals and two organisations have received more than one Nobel Prize.',\n",
              " 'The laureates are given a sum of money when they receive their prizes, in the form of a document confirming the amount awarded. The amount of prize money depends upon how much money the Nobel Foundation can award each year. The purse has increased since the 1980s, when the prize money was 880,000 SEK per prize (c. 2.6\\xa0million SEK altogether, US$350,000 today). In 2009, the monetary award was 10\\xa0million SEK (US$1.4\\xa0million). In June 2012, it was lowered to 8\\xa0million SEK. If two laureates share the prize in a category, the award grant is divided equally between the recipients. If there are three, the awarding committee has the option of dividing the grant equally, or awarding one-half to one recipient and one-quarter to each of the others. It is common for recipients to donate prize money to benefit scientific, cultural, or humanitarian causes.',\n",
              " 'The institutions meet to choose the laureate or laureates in each field by a majority vote. Their decision, which cannot be appealed, is announced immediately after the vote. A maximum of three laureates and two different works may be selected per award. Except for the Peace Prize, which can be awarded to institutions, the awards can only be given to individuals.',\n",
              " 'A number of agencies and individuals associated with the UN have won the Nobel Peace Prize in recognition of their work. Two secretaries-general, Dag Hammarskjöld and Kofi Annan, were each awarded the prize (in 1961 and 2001, respectively), as were Ralph Bunche (1950), a UN negotiator, René Cassin (1968), a contributor to the Universal Declaration of Human Rights, and the US Secretary of State Cordell Hull (1945), the latter for his role in the organization\\'s founding. Lester B. Pearson, the Canadian Secretary of State for External Affairs, was awarded the prize in 1957 for his role in organizing the UN\\'s first peacekeeping force to resolve the Suez Crisis. UNICEF won the prize in 1965, the International Labour Organization in 1969, the UN Peacekeeping Forces in 1988, the International Atomic Energy Agency (which reports to the UN) in 2005, and the UN-supported Organisation for the Prohibition of Chemical Weapons in 2013. The UN High Commissioner for Refugees was awarded in 1954 and 1981, becoming one of only two recipients to win the prize twice. The UN as a whole was awarded the prize in 2001, sharing it with Annan. In 2007, IPCC received the prize \"for their efforts to build up and disseminate greater knowledge about man-made climate change, and to lay the foundations for the measures that are needed to counteract such change.\"',\n",
              " 'In 2009, a record 205 nominations were received, but the record was broken again in 2010 with 237 nominations; in 2011, the record was broken once again with 241 nominations. The statutes of the Nobel Foundation do not allow information about nominations, considerations, or investigations relating to awarding the prize to be made public for at least 50 years after a prize has been awarded. Over time, many individuals have become known as \"Nobel Peace Prize Nominees\", but this designation has no official standing, and means only that one of the thousands of eligible nominators suggested the person\\'s name for consideration. Indeed, in 1939, Adolf Hitler received a satirical nomination from a member of the Swedish parliament, mocking the (serious but unsuccessful) nomination of Neville Chamberlain. Nominations from 1901 to 1967 have been released in a database.']"
            ]
          },
          "metadata": {},
          "execution_count": 143
        }
      ]
    },
    {
      "cell_type": "code",
      "source": [
        "prompt = f\"\"\"\n",
        "Use the information provided below to answer the questions at the end. If the answer to the question is not contained in the provided information, say \"The answer is not in the context\".\n",
        "---\n",
        "Context information:\n",
        "{context}\n",
        "---\n",
        "Question: How many people have won more than one Nobel prize?\n",
        "\"\"\""
      ],
      "metadata": {
        "id": "HklTHYw1aVWU"
      },
      "execution_count": null,
      "outputs": []
    },
    {
      "cell_type": "code",
      "source": [
        "prediction_with_search = co.generate(\n",
        "    prompt=prompt,\n",
        "    num_generations=5,\n",
        "    max_tokens=50,\n",
        "    )"
      ],
      "metadata": {
        "id": "lloV1wYJaoBH"
      },
      "execution_count": null,
      "outputs": []
    },
    {
      "cell_type": "code",
      "source": [
        "for p in prediction_with_search:\n",
        "  print(p.text)"
      ],
      "metadata": {
        "colab": {
          "base_uri": "https://localhost:8080/"
        },
        "id": "X2CsoHrabqoR",
        "outputId": "84151fe7-b5b9-40cd-9ab6-e8f4f48ed4d3"
      },
      "execution_count": null,
      "outputs": [
        {
          "output_type": "stream",
          "name": "stdout",
          "text": [
            " The answer is Five people have received two Nobel Prizes.\n",
            " The answer is Five people have received two Nobel Prizes. Marie Curie received the Physics Prize in 1903 for her work on radioactivity and the Chemistry Prize in 1911 for the isolation of pure radium, making her the only person to be awarded a Nobel\n",
            " The answer is Five people have received two Nobel Prizes.\n",
            " The answer is The Curie family has received the most prizes, with four prizes awarded to five individual laureates. Marie Curie received the prizes in Physics (in 1903) and Chemistry (in 1911). Her husband, Pierre Curie, shared the\n",
            " The answer is Five people have received two Nobel Prizes. Marie Curie received the Physics Prize in 1903 for her work on radioactivity and the Chemistry Prize in 1911 for the isolation of pure radium, making her the only person to be awarded a Nobel\n"
          ]
        }
      ]
    },
    {
      "cell_type": "code",
      "source": [],
      "metadata": {
        "id": "ceLHt9Gf7vu9"
      },
      "execution_count": null,
      "outputs": []
    }
  ]
}